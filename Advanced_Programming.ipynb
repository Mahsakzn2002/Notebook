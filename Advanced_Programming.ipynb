{
 "cells": [
  {
   "cell_type": "markdown",
   "id": "25e48ea8-38f5-4291-8d2d-40154828b30b",
   "metadata": {},
   "source": [
    "# Advanced Programming\n",
    "## Mahsa Keshavarzi Nejad\n",
    "### ID: 400150748"
   ]
  },
  {
   "cell_type": "markdown",
   "id": "c0252002-71d6-4225-92d0-ec52804c6b95",
   "metadata": {},
   "source": [
    "## Session 1 and 2 ## "
   ]
  },
  {
   "cell_type": "code",
   "execution_count": 13,
   "id": "9ad57447-df3a-4c2d-b338-11b68e33b69a",
   "metadata": {},
   "outputs": [
    {
     "name": "stdout",
     "output_type": "stream",
     "text": [
      "2\n"
     ]
    }
   ],
   "source": [
    "a = 2\n",
    "b = 1\n",
    "d = a or b\n",
    "print(d)"
   ]
  },
  {
   "cell_type": "code",
   "execution_count": 15,
   "id": "7de53104-63de-4925-b5d5-c2de1381b9fe",
   "metadata": {},
   "outputs": [
    {
     "name": "stdout",
     "output_type": "stream",
     "text": [
      "1\n"
     ]
    }
   ],
   "source": [
    "a = 2\n",
    "b = 1\n",
    "d = a and b\n",
    "print(d)"
   ]
  },
  {
   "cell_type": "code",
   "execution_count": 17,
   "id": "0c818945-f020-49bd-941c-a4ba1a0fc8d5",
   "metadata": {},
   "outputs": [
    {
     "name": "stdout",
     "output_type": "stream",
     "text": [
      "False\n"
     ]
    }
   ],
   "source": [
    "a = True\n",
    "b =False\n",
    "d = a and b\n",
    "print(d)"
   ]
  },
  {
   "cell_type": "code",
   "execution_count": 19,
   "id": "2500e2f8-d94f-4d1d-a0e8-80b98d2bd5e0",
   "metadata": {},
   "outputs": [
    {
     "name": "stdout",
     "output_type": "stream",
     "text": [
      "False\n"
     ]
    }
   ],
   "source": [
    "a = False\n",
    "b = True\n",
    "d = a and b\n",
    "print(d)"
   ]
  },
  {
   "cell_type": "code",
   "execution_count": 21,
   "id": "122832b7-1452-4ab8-9c7e-c384d9f3ff96",
   "metadata": {},
   "outputs": [
    {
     "name": "stdout",
     "output_type": "stream",
     "text": [
      "True\n"
     ]
    }
   ],
   "source": [
    "a = False\n",
    "b = True\n",
    "d = a or b\n",
    "print(d)"
   ]
  },
  {
   "cell_type": "code",
   "execution_count": 23,
   "id": "6d352872-f8af-4ba7-885f-e586876d2b98",
   "metadata": {},
   "outputs": [
    {
     "name": "stdout",
     "output_type": "stream",
     "text": [
      "0\n"
     ]
    }
   ],
   "source": [
    "a = 1\n",
    "b = 0\n",
    "d = a and b\n",
    "print(d)"
   ]
  },
  {
   "cell_type": "code",
   "execution_count": 25,
   "id": "fdd864e6-ae90-4e78-9619-b794a192f641",
   "metadata": {},
   "outputs": [
    {
     "name": "stdout",
     "output_type": "stream",
     "text": [
      "1\n"
     ]
    }
   ],
   "source": [
    "a = 1\n",
    "b = 0\n",
    "d = a or b\n",
    "print(d)"
   ]
  },
  {
   "cell_type": "markdown",
   "id": "5b2a5b1c-49dd-4cd5-a082-4c12f1cdaf2b",
   "metadata": {},
   "source": [
    "## Introduction To Markdown"
   ]
  },
  {
   "cell_type": "markdown",
   "id": "3953d4e4-3f6a-4ca4-85f7-97f3cee2f59f",
   "metadata": {},
   "source": [
    "## Header"
   ]
  },
  {
   "cell_type": "markdown",
   "id": "ba9589de-3a3f-47d3-9a4a-1dc4592ec4c0",
   "metadata": {},
   "source": [
    "***Bold and Italic***"
   ]
  },
  {
   "cell_type": "markdown",
   "id": "ba691c23-d307-4605-b699-041a14c3fe78",
   "metadata": {},
   "source": [
    "_Italic_"
   ]
  },
  {
   "cell_type": "markdown",
   "id": "a85df122-ab17-4ea5-96bd-258629b63eaa",
   "metadata": {},
   "source": [
    "__Bold__"
   ]
  },
  {
   "cell_type": "markdown",
   "id": "4ae34c2b-3b5e-4609-858b-ca22b9806c5b",
   "metadata": {},
   "source": [
    "$Another  Font$"
   ]
  },
  {
   "cell_type": "markdown",
   "id": "7f5948e9-4ec5-4f06-b04c-54bfb53ac7c7",
   "metadata": {},
   "source": [
    "# List"
   ]
  },
  {
   "cell_type": "markdown",
   "id": "000c7c33-76c0-4738-953e-b2f281fdafcc",
   "metadata": {},
   "source": [
    " # 1. 1\n",
    "    2. 1.1\n",
    " # 3. 2"
   ]
  },
  {
   "cell_type": "markdown",
   "id": "43573383-0416-47bc-a7ee-529d493844c0",
   "metadata": {},
   "source": [
    "[Click here to visit Jupiter](https://jupyter.org)"
   ]
  },
  {
   "cell_type": "markdown",
   "id": "10c732ed-67eb-41de-9565-06e4a1dfd298",
   "metadata": {},
   "source": [
    "![Jupyter logo](https://upload.wikimedia.org/wikipedia/commons/3/38/Jupyter_logo.svg)"
   ]
  },
  {
   "cell_type": "markdown",
   "id": "44d035bf-6557-443d-8991-6b01bae6ffff",
   "metadata": {},
   "source": [
    "![m](images/Jupyter_logo.svg.png)"
   ]
  },
  {
   "cell_type": "markdown",
   "id": "c841474f-58e4-4ba2-910c-fd98994ba57b",
   "metadata": {},
   "source": [
    "<img src=\"images/Jupyter_logo.svg.png\" alt=\"Alt text\" width=\"150\" height=\"300\">"
   ]
  },
  {
   "cell_type": "markdown",
   "id": "8911468a-8da8-4ec2-bb80-990c344de9c0",
   "metadata": {},
   "source": [
    "```Incline Code```"
   ]
  },
  {
   "cell_type": "markdown",
   "id": "07032db6-8036-4289-ab07-c7e520ff4ae9",
   "metadata": {},
   "source": [
    "> Hey"
   ]
  },
  {
   "cell_type": "markdown",
   "id": "2f5b35b4-2e6d-40b6-892a-56f20afa50f6",
   "metadata": {},
   "source": [
    "---Hello"
   ]
  },
  {
   "cell_type": "markdown",
   "id": "77c3fbdd-a02e-4dca-ac60-62ba8f849ec6",
   "metadata": {},
   "source": [
    "|Header1   | Header2   |\n",
    "|----------|-----------|\n",
    "|Row1      |Row2       | "
   ]
  },
  {
   "cell_type": "markdown",
   "id": "028d7e47-c358-4182-a33d-c130d72230d8",
   "metadata": {},
   "source": [
    "$$E=mc^2$$"
   ]
  },
  {
   "cell_type": "markdown",
   "id": "421823dc-e9bf-4445-8663-0ac7e077ec24",
   "metadata": {},
   "source": [
    "## Session 3 ##"
   ]
  },
  {
   "cell_type": "markdown",
   "id": "9e84553e-477c-4bea-8b39-ddcb54606c0e",
   "metadata": {},
   "source": [
    "### String Concept"
   ]
  },
  {
   "cell_type": "markdown",
   "id": "57b1786b-7f9f-42fa-a869-b09767c91cb1",
   "metadata": {},
   "source": [
    "Standard form of a variable:\n",
    "- camleCase \n",
    "- camle_case\n",
    "#### I'm going to use the camleCase from now."
   ]
  },
  {
   "cell_type": "markdown",
   "id": "a6ed8636-9d76-4096-97f6-e7b51004ed60",
   "metadata": {},
   "source": [
    "#### Creating a variable in the form of a string"
   ]
  },
  {
   "cell_type": "code",
   "execution_count": 48,
   "id": "97db08c8-f47c-4095-b7a0-2625980af59f",
   "metadata": {},
   "outputs": [],
   "source": [
    "mahsaAge= \"Twenty Two\""
   ]
  },
  {
   "cell_type": "code",
   "execution_count": 50,
   "id": "e7989fbd-1194-4dde-a155-0e6e0162e08a",
   "metadata": {},
   "outputs": [
    {
     "data": {
      "text/plain": [
       "10"
      ]
     },
     "execution_count": 50,
     "metadata": {},
     "output_type": "execute_result"
    }
   ],
   "source": [
    "len(\"Twenty Two\")"
   ]
  },
  {
   "cell_type": "code",
   "execution_count": 52,
   "id": "3867db9a-8535-4ff3-9f47-0ef985d4c493",
   "metadata": {},
   "outputs": [
    {
     "data": {
      "text/plain": [
       "'o'"
      ]
     },
     "execution_count": 52,
     "metadata": {},
     "output_type": "execute_result"
    }
   ],
   "source": [
    "mahsaAge[9]"
   ]
  },
  {
   "cell_type": "code",
   "execution_count": 54,
   "id": "5fce4472-dc81-46b1-b128-a7b913bee506",
   "metadata": {},
   "outputs": [
    {
     "data": {
      "text/plain": [
       "'T'"
      ]
     },
     "execution_count": 54,
     "metadata": {},
     "output_type": "execute_result"
    }
   ],
   "source": [
    "mahsaAge[0]"
   ]
  },
  {
   "cell_type": "code",
   "execution_count": 56,
   "id": "616ba3ec-4584-42b7-a267-5de28c8de97e",
   "metadata": {},
   "outputs": [
    {
     "name": "stdout",
     "output_type": "stream",
     "text": [
      "o\n"
     ]
    }
   ],
   "source": [
    "print(mahsaAge[-1])"
   ]
  },
  {
   "cell_type": "code",
   "execution_count": 58,
   "id": "3d9b4899-52e5-4338-8af2-d94e324211f1",
   "metadata": {},
   "outputs": [
    {
     "data": {
      "text/plain": [
       "'o'"
      ]
     },
     "execution_count": 58,
     "metadata": {},
     "output_type": "execute_result"
    }
   ],
   "source": [
    "mahsaAge[len(mahsaAge)-1]"
   ]
  },
  {
   "cell_type": "code",
   "execution_count": 60,
   "id": "b45ce834-6b65-44bf-9d85-4a633b2fe9fe",
   "metadata": {},
   "outputs": [
    {
     "data": {
      "text/plain": [
       "'we'"
      ]
     },
     "execution_count": 60,
     "metadata": {},
     "output_type": "execute_result"
    }
   ],
   "source": [
    "mahsaAge[1:3]"
   ]
  },
  {
   "cell_type": "code",
   "execution_count": 62,
   "id": "b86201fc-0179-4a7b-8fec-a2f2d924bdb8",
   "metadata": {},
   "outputs": [
    {
     "name": "stdout",
     "output_type": "stream",
     "text": [
      "Mahsa Keshavarzi Nejad\n"
     ]
    }
   ],
   "source": [
    "firstName = \"Mahsa\"\n",
    "lastName = \"Keshavarzi Nejad\"\n",
    "\n",
    "fullName = firstName +\" \"+ lastName\n",
    "\n",
    "print(fullName)"
   ]
  },
  {
   "cell_type": "code",
   "execution_count": 64,
   "id": "16e8c9f3-a578-40c2-913a-6b8869659ec8",
   "metadata": {},
   "outputs": [
    {
     "name": "stdout",
     "output_type": "stream",
     "text": [
      "Twenty Two years old\n"
     ]
    }
   ],
   "source": [
    "a=\" years old\"\n",
    "age =mahsaAge+a\n",
    "print(age)"
   ]
  },
  {
   "cell_type": "code",
   "execution_count": 66,
   "id": "3254e2b7-24c0-46aa-b8ee-0b5f88fbd65d",
   "metadata": {},
   "outputs": [
    {
     "data": {
      "text/plain": [
       "'MahsaMahsaMahsaMahsaMahsaMahsaMahsaMahsaMahsaMahsaMahsaMahsaMahsaMahsaMahsaMahsaMahsaMahsaMahsaMahsaMahsaMahsaMahsaMahsaMahsaMahsaMahsaMahsaMahsaMahsaMahsaMahsaMahsaMahsaMahsaMahsaMahsaMahsaMahsaMahsaMahsaMahsaMahsaMahsaMahsaMahsaMahsaMahsaMahsaMahsaMahsaMahsaMahsaMahsaMahsaMahsaMahsaMahsaMahsaMahsaMahsaMahsaMahsaMahsaMahsaMahsaMahsaMahsaMahsaMahsaMahsaMahsaMahsaMahsaMahsaMahsaMahsaMahsaMahsaMahsaMahsaMahsaMahsaMahsaMahsaMahsaMahsaMahsaMahsaMahsaMahsaMahsaMahsaMahsaMahsaMahsaMahsaMahsaMahsaMahsa'"
      ]
     },
     "execution_count": 66,
     "metadata": {},
     "output_type": "execute_result"
    }
   ],
   "source": [
    "firstName*100"
   ]
  },
  {
   "cell_type": "code",
   "execution_count": 68,
   "id": "54846679-2596-4544-a71f-7a7158fe3eb5",
   "metadata": {},
   "outputs": [
    {
     "name": "stdout",
     "output_type": "stream",
     "text": [
      "2\n",
      "11\n"
     ]
    }
   ],
   "source": [
    "tempInt = 1\n",
    "tempStr = \"1\"\n",
    "\n",
    "print(tempInt*2)\n",
    "print(tempStr*2)"
   ]
  },
  {
   "cell_type": "code",
   "execution_count": 70,
   "id": "6ab63849-03fd-4167-af0c-12e36fc558ce",
   "metadata": {},
   "outputs": [
    {
     "name": "stdout",
     "output_type": "stream",
     "text": [
      "-1\n"
     ]
    },
    {
     "data": {
      "text/plain": [
       "6"
      ]
     },
     "execution_count": 70,
     "metadata": {},
     "output_type": "execute_result"
    }
   ],
   "source": [
    "print(mahsaAge.find(\"a\"))\n",
    "\n",
    "fullName.find(lastName)"
   ]
  },
  {
   "cell_type": "code",
   "execution_count": 72,
   "id": "a5e1ab08-e7f8-44f6-86f3-3477b8bb5f1f",
   "metadata": {},
   "outputs": [
    {
     "data": {
      "text/plain": [
       "0"
      ]
     },
     "execution_count": 72,
     "metadata": {},
     "output_type": "execute_result"
    }
   ],
   "source": [
    "T=\"T\"\n",
    "mahsaAge.find(T)"
   ]
  },
  {
   "cell_type": "markdown",
   "id": "a6180cea-bf97-41a0-ac5d-922178b1e3b0",
   "metadata": {},
   "source": [
    "## Session 4 ##"
   ]
  },
  {
   "cell_type": "code",
   "execution_count": 75,
   "id": "9fd04b73-037a-4602-b94a-dbd5b78e1ccc",
   "metadata": {},
   "outputs": [
    {
     "name": "stdout",
     "output_type": "stream",
     "text": [
      "2\n"
     ]
    }
   ],
   "source": [
    "a = 2\n",
    "b = a\n",
    "print(b)"
   ]
  },
  {
   "cell_type": "code",
   "execution_count": 77,
   "id": "e7be1050-5373-4d2d-9640-ca3bbcc0338e",
   "metadata": {},
   "outputs": [
    {
     "data": {
      "text/plain": [
       "True"
      ]
     },
     "execution_count": 77,
     "metadata": {},
     "output_type": "execute_result"
    }
   ],
   "source": [
    "a = 2\n",
    "b = 2\n",
    "a == b"
   ]
  },
  {
   "cell_type": "markdown",
   "id": "2cf4fb36-4feb-4b4e-aec4-99a680fba904",
   "metadata": {},
   "source": [
    "### Immutable"
   ]
  },
  {
   "cell_type": "code",
   "execution_count": 80,
   "id": "543e7a84-d8b6-416c-894b-7d036bde9c10",
   "metadata": {},
   "outputs": [
    {
     "name": "stdout",
     "output_type": "stream",
     "text": [
      "Mahsa Keshavarzi Nejad\n"
     ]
    }
   ],
   "source": [
    "myName=\"Mahsa\"\n",
    "myFamilly=\" Keshavarzi Nejad\"\n",
    "myBrotherName=\"Parsa\"\n",
    "myFullName=myName+myFamilly\n",
    "print(myFullName)"
   ]
  },
  {
   "cell_type": "code",
   "execution_count": 82,
   "id": "3b7fe5d5-091e-4eb8-9c0b-15d45ac75280",
   "metadata": {},
   "outputs": [],
   "source": [
    "myBrotherFullName= myFullName.replace(myName, myBrotherName)"
   ]
  },
  {
   "cell_type": "code",
   "execution_count": 84,
   "id": "dd9c179d-fe15-44a8-ae35-20814a6cb222",
   "metadata": {},
   "outputs": [
    {
     "data": {
      "text/plain": [
       "'Parsa Keshavarzi Nejad'"
      ]
     },
     "execution_count": 84,
     "metadata": {},
     "output_type": "execute_result"
    }
   ],
   "source": [
    "myBrotherFullName"
   ]
  },
  {
   "cell_type": "code",
   "execution_count": 86,
   "id": "bad2ee15-6f95-404f-92b3-a955da819596",
   "metadata": {},
   "outputs": [
    {
     "data": {
      "text/plain": [
       "'Parsa Keshavarzi NejadParsa Keshavarzi Nejad'"
      ]
     },
     "execution_count": 86,
     "metadata": {},
     "output_type": "execute_result"
    }
   ],
   "source": [
    "myBrotherFullName*2"
   ]
  },
  {
   "cell_type": "code",
   "execution_count": 88,
   "id": "def0daed-9aa1-4cbc-bd44-7fe486ebeca5",
   "metadata": {},
   "outputs": [
    {
     "data": {
      "text/plain": [
       "'MAHSA'"
      ]
     },
     "execution_count": 88,
     "metadata": {},
     "output_type": "execute_result"
    }
   ],
   "source": [
    "myName.upper()"
   ]
  },
  {
   "cell_type": "code",
   "execution_count": 90,
   "id": "6d358ee0-a7a1-4ea7-b0fc-4881930a4747",
   "metadata": {},
   "outputs": [
    {
     "data": {
      "text/plain": [
       "'mahsa'"
      ]
     },
     "execution_count": 90,
     "metadata": {},
     "output_type": "execute_result"
    }
   ],
   "source": [
    "myName.lower()"
   ]
  },
  {
   "cell_type": "code",
   "execution_count": 92,
   "id": "dc159c1d-c895-4c61-b7ac-856515d8b8e0",
   "metadata": {},
   "outputs": [
    {
     "data": {
      "text/plain": [
       "False"
      ]
     },
     "execution_count": 92,
     "metadata": {},
     "output_type": "execute_result"
    }
   ],
   "source": [
    "number= \"12344\"\n",
    "number.isalpha()"
   ]
  },
  {
   "cell_type": "code",
   "execution_count": 94,
   "id": "fe004e1e-476c-4c4b-9a7a-68ed2bc3d93b",
   "metadata": {},
   "outputs": [
    {
     "data": {
      "text/plain": [
       "['f', 'efe', 'frfv', 'rfvf']"
      ]
     },
     "execution_count": 94,
     "metadata": {},
     "output_type": "execute_result"
    }
   ],
   "source": [
    "Name= \"f efe frfv rfvf\"\n",
    "Name.split(' ')"
   ]
  },
  {
   "cell_type": "code",
   "execution_count": 96,
   "id": "19522b53-f6a2-4ade-8ac4-2d5f61bee946",
   "metadata": {},
   "outputs": [
    {
     "data": {
      "text/plain": [
       "['Amir', 'houshang', 'Hoseinpour', 'Dehkordi']"
      ]
     },
     "execution_count": 96,
     "metadata": {},
     "output_type": "execute_result"
    }
   ],
   "source": [
    "teacher_name1 = \"Amir,houshang,Hoseinpour,Dehkordi\"\n",
    "teacher_name1.split(',')"
   ]
  },
  {
   "cell_type": "code",
   "execution_count": 98,
   "id": "bbd2901d-1573-4584-b1f1-93b98c11d80b",
   "metadata": {},
   "outputs": [
    {
     "data": {
      "text/plain": [
       "['17', '45', '43']"
      ]
     },
     "execution_count": 98,
     "metadata": {},
     "output_type": "execute_result"
    }
   ],
   "source": [
    "time =\"17:45:43\"\n",
    "time.split(\":\")"
   ]
  },
  {
   "cell_type": "code",
   "execution_count": 100,
   "id": "9116d6e5-7a4e-4f2c-84a6-16f909dac75a",
   "metadata": {},
   "outputs": [
    {
     "data": {
      "text/plain": [
       "['__add__',\n",
       " '__class__',\n",
       " '__contains__',\n",
       " '__delattr__',\n",
       " '__dir__',\n",
       " '__doc__',\n",
       " '__eq__',\n",
       " '__format__',\n",
       " '__ge__',\n",
       " '__getattribute__',\n",
       " '__getitem__',\n",
       " '__getnewargs__',\n",
       " '__getstate__',\n",
       " '__gt__',\n",
       " '__hash__',\n",
       " '__init__',\n",
       " '__init_subclass__',\n",
       " '__iter__',\n",
       " '__le__',\n",
       " '__len__',\n",
       " '__lt__',\n",
       " '__mod__',\n",
       " '__mul__',\n",
       " '__ne__',\n",
       " '__new__',\n",
       " '__reduce__',\n",
       " '__reduce_ex__',\n",
       " '__repr__',\n",
       " '__rmod__',\n",
       " '__rmul__',\n",
       " '__setattr__',\n",
       " '__sizeof__',\n",
       " '__str__',\n",
       " '__subclasshook__',\n",
       " 'capitalize',\n",
       " 'casefold',\n",
       " 'center',\n",
       " 'count',\n",
       " 'encode',\n",
       " 'endswith',\n",
       " 'expandtabs',\n",
       " 'find',\n",
       " 'format',\n",
       " 'format_map',\n",
       " 'index',\n",
       " 'isalnum',\n",
       " 'isalpha',\n",
       " 'isascii',\n",
       " 'isdecimal',\n",
       " 'isdigit',\n",
       " 'isidentifier',\n",
       " 'islower',\n",
       " 'isnumeric',\n",
       " 'isprintable',\n",
       " 'isspace',\n",
       " 'istitle',\n",
       " 'isupper',\n",
       " 'join',\n",
       " 'ljust',\n",
       " 'lower',\n",
       " 'lstrip',\n",
       " 'maketrans',\n",
       " 'partition',\n",
       " 'removeprefix',\n",
       " 'removesuffix',\n",
       " 'replace',\n",
       " 'rfind',\n",
       " 'rindex',\n",
       " 'rjust',\n",
       " 'rpartition',\n",
       " 'rsplit',\n",
       " 'rstrip',\n",
       " 'split',\n",
       " 'splitlines',\n",
       " 'startswith',\n",
       " 'strip',\n",
       " 'swapcase',\n",
       " 'title',\n",
       " 'translate',\n",
       " 'upper',\n",
       " 'zfill']"
      ]
     },
     "execution_count": 100,
     "metadata": {},
     "output_type": "execute_result"
    }
   ],
   "source": [
    "dir(time)"
   ]
  },
  {
   "cell_type": "code",
   "execution_count": 102,
   "id": "81f875ab-1c85-440f-a8f3-2034c82a40e7",
   "metadata": {},
   "outputs": [
    {
     "name": "stdout",
     "output_type": "stream",
     "text": [
      "Help on built-in function translate:\n",
      "\n",
      "translate(table, /) method of builtins.str instance\n",
      "    Replace each character in the string using the given translation table.\n",
      "\n",
      "      table\n",
      "        Translation table, which must be a mapping of Unicode ordinals to\n",
      "        Unicode ordinals, strings, or None.\n",
      "\n",
      "    The table must implement lookup/indexing via __getitem__, for instance a\n",
      "    dictionary or list.  If this operation raises LookupError, the character is\n",
      "    left untouched.  Characters mapped to None are deleted.\n",
      "\n"
     ]
    }
   ],
   "source": [
    "help(time.translate)"
   ]
  },
  {
   "cell_type": "code",
   "execution_count": 104,
   "id": "10aafe60-670c-43e1-b008-53f70741da80",
   "metadata": {},
   "outputs": [
    {
     "name": "stdout",
     "output_type": "stream",
     "text": [
      "Help on built-in function upper:\n",
      "\n",
      "upper() method of builtins.str instance\n",
      "    Return a copy of the string converted to uppercase.\n",
      "\n"
     ]
    }
   ],
   "source": [
    "help(myFullName.upper)"
   ]
  },
  {
   "cell_type": "code",
   "execution_count": 106,
   "id": "5d9beb46-1c6a-4246-afa2-4ae4a53a7f2b",
   "metadata": {},
   "outputs": [
    {
     "name": "stdout",
     "output_type": "stream",
     "text": [
      "A\n",
      "B\tC\n"
     ]
    }
   ],
   "source": [
    "tempString= 'A\\nB\\tC'\n",
    "print(tempString)"
   ]
  },
  {
   "cell_type": "code",
   "execution_count": 108,
   "id": "cd047df5-215c-4316-a142-6fdbeb53ea57",
   "metadata": {},
   "outputs": [
    {
     "name": "stdout",
     "output_type": "stream",
     "text": [
      "\"\n"
     ]
    }
   ],
   "source": [
    "print(\"\\\"\")"
   ]
  },
  {
   "cell_type": "code",
   "execution_count": 110,
   "id": "9eb90dc3-94a3-45b2-9c03-84d0236d72b5",
   "metadata": {},
   "outputs": [
    {
     "name": "stdout",
     "output_type": "stream",
     "text": [
      "mahsa\n",
      "Keshavarzi\n"
     ]
    }
   ],
   "source": [
    "temp_name = 'mahsa\\nKeshavarzi'\n",
    "print(temp_name)"
   ]
  },
  {
   "cell_type": "code",
   "execution_count": 112,
   "id": "045bab9b-3f6c-4af1-b81a-56fa367eb1fd",
   "metadata": {},
   "outputs": [
    {
     "name": "stdout",
     "output_type": "stream",
     "text": [
      "A\u0000B\u0000C\n"
     ]
    }
   ],
   "source": [
    "tempString= 'A\\0B\\0C'\n",
    "print(tempString)"
   ]
  },
  {
   "cell_type": "markdown",
   "id": "f69fcef3-757a-4e09-ac37-1f1349ec85f5",
   "metadata": {},
   "source": [
    "## Session 5 ##"
   ]
  },
  {
   "cell_type": "code",
   "execution_count": 115,
   "id": "00ff5c54-95ab-42bd-b0b0-d23155609a4f",
   "metadata": {},
   "outputs": [
    {
     "name": "stdout",
     "output_type": "stream",
     "text": [
      "Salam\n"
     ]
    }
   ],
   "source": [
    "if True:\n",
    "    print(\"Salam\")"
   ]
  },
  {
   "cell_type": "code",
   "execution_count": 117,
   "id": "6ff19009-5a65-4f72-be6d-25430d0f8270",
   "metadata": {},
   "outputs": [],
   "source": [
    "if False:\n",
    "    print(\"Salam\")"
   ]
  },
  {
   "cell_type": "code",
   "execution_count": 119,
   "id": "ad32eef8-2f9d-47f8-8832-626b8f6d2791",
   "metadata": {},
   "outputs": [
    {
     "name": "stdout",
     "output_type": "stream",
     "text": [
      "Salam\n"
     ]
    }
   ],
   "source": [
    "if 3:\n",
    "    print(\"Salam\")"
   ]
  },
  {
   "cell_type": "code",
   "execution_count": 121,
   "id": "b84b853a-2108-4200-a81f-0cdd91ba5381",
   "metadata": {},
   "outputs": [],
   "source": [
    "if 0:\n",
    "    print(\"Salam\")"
   ]
  },
  {
   "cell_type": "code",
   "execution_count": 123,
   "id": "2774062c-de9d-479b-ad47-e951a6fbeacc",
   "metadata": {},
   "outputs": [],
   "source": [
    "if \"\":\n",
    "    print(\"Salam\")"
   ]
  },
  {
   "cell_type": "code",
   "execution_count": 125,
   "id": "dd8a6c12-06d1-4bcd-9d25-efd7cef885ad",
   "metadata": {},
   "outputs": [
    {
     "name": "stdout",
     "output_type": "stream",
     "text": [
      "Salam\n"
     ]
    }
   ],
   "source": [
    "if \"Amir\":\n",
    "    print(\"Salam\")"
   ]
  },
  {
   "cell_type": "code",
   "execution_count": 126,
   "id": "1ddabcbb-1b8a-4c7e-9cd8-f68bf85145db",
   "metadata": {},
   "outputs": [
    {
     "name": "stdout",
     "output_type": "stream",
     "text": [
      "Long name\n"
     ]
    }
   ],
   "source": [
    "if len(myName)>=5:\n",
    "    print(\"Long name\")"
   ]
  },
  {
   "cell_type": "code",
   "execution_count": 129,
   "id": "64e1dd25-c8d2-47a7-9e7f-13cc6a0f5e3d",
   "metadata": {},
   "outputs": [
    {
     "name": "stdout",
     "output_type": "stream",
     "text": [
      "Short name\n"
     ]
    }
   ],
   "source": [
    "if len(myName)>=7:\n",
    "    print(\"Long name\")\n",
    "else:\n",
    "    print(\"Short name\")"
   ]
  },
  {
   "cell_type": "code",
   "execution_count": 131,
   "id": "005711d9-5e7d-4c6a-806d-be1ca0b845d4",
   "metadata": {},
   "outputs": [
    {
     "name": "stdout",
     "output_type": "stream",
     "text": [
      "Long name\n"
     ]
    }
   ],
   "source": [
    "if len(myFullName)>=7:\n",
    "    print(\"Long name\")\n",
    "else:\n",
    "    print(\"Short name\")"
   ]
  },
  {
   "cell_type": "code",
   "execution_count": 133,
   "id": "5e51d122-774a-4b7d-999e-97d1f8049127",
   "metadata": {},
   "outputs": [
    {
     "name": "stdout",
     "output_type": "stream",
     "text": [
      "Medium name\n"
     ]
    }
   ],
   "source": [
    "inputName = \"amir\"\n",
    "\n",
    "if len(inputName)<=3:\n",
    "    \n",
    "    print(\"Short name\")\n",
    "    \n",
    "elif 3<len(inputName)<=5:\n",
    "    \n",
    "    print(\"Medium name\")\n",
    "    \n",
    "else:\n",
    "    \n",
    "    print(\"Long name\")"
   ]
  },
  {
   "cell_type": "code",
   "execution_count": 135,
   "id": "1556c487-e31d-4c8a-9873-c8a106d05e42",
   "metadata": {},
   "outputs": [
    {
     "name": "stdout",
     "output_type": "stream",
     "text": [
      "Short name\n"
     ]
    }
   ],
   "source": [
    "inputName = \"ava\"\n",
    "\n",
    "if len(inputName)<=3:\n",
    "    \n",
    "    print(\"Short name\")\n",
    "    \n",
    "elif 3<len(inputName)<=5:\n",
    "    \n",
    "    print(\"Medium name\")\n",
    "    \n",
    "else:\n",
    "    \n",
    "    print(\"Long name\")"
   ]
  },
  {
   "cell_type": "code",
   "execution_count": 137,
   "id": "7831d73c-0140-44c6-9804-923c12e3fc66",
   "metadata": {},
   "outputs": [
    {
     "name": "stdout",
     "output_type": "stream",
     "text": [
      "even,child\n"
     ]
    }
   ],
   "source": [
    "age = 18\n",
    "\n",
    "if age>20:\n",
    "    if not age %2 :\n",
    "        print(\"even,adult\")\n",
    "    else :\n",
    "        print(\"odd,adult\")\n",
    "else:\n",
    "    if not age %2 :\n",
    "        print(\"even,child\")\n",
    "    else :\n",
    "        print(\"odd,child\")  "
   ]
  },
  {
   "cell_type": "code",
   "execution_count": 139,
   "id": "a198450d-048f-43f7-b0c4-03d11ac84a3e",
   "metadata": {},
   "outputs": [
    {
     "name": "stdout",
     "output_type": "stream",
     "text": [
      "odd,child\n"
     ]
    }
   ],
   "source": [
    "age = 19\n",
    "\n",
    "if age>20:\n",
    "    if age %2 ==0 :\n",
    "        print(\"even,adult\")\n",
    "    else :\n",
    "        print(\"odd,adult\")\n",
    "else:\n",
    "    if age %2==0 :\n",
    "        print(\"even,child\")\n",
    "    else :\n",
    "        print(\"odd,child\") "
   ]
  },
  {
   "cell_type": "code",
   "execution_count": 141,
   "id": "ba4dfe83-a4bb-4be3-8ad0-6d57f6a1ed6b",
   "metadata": {},
   "outputs": [
    {
     "name": "stdin",
     "output_type": "stream",
     "text": [
      "Please enter your name:  mahsa\n"
     ]
    },
    {
     "name": "stdout",
     "output_type": "stream",
     "text": [
      "medium\n"
     ]
    }
   ],
   "source": [
    "## this code is just an extra code by me from my last memmories of pythone.\n",
    "\n",
    "a= input(\"Please enter your name: \")\n",
    "if len(a)> 8:\n",
    "    print(\"long name\")\n",
    "elif 5<=len(a)<=8:\n",
    "    print(\"medium\")\n",
    "else:\n",
    "    print(\"Short name\")"
   ]
  },
  {
   "cell_type": "code",
   "execution_count": 143,
   "id": "5a4d4dcf-595d-4c18-96f0-237318ee418f",
   "metadata": {},
   "outputs": [
    {
     "name": "stdin",
     "output_type": "stream",
     "text": [
      "enter your age 22\n"
     ]
    },
    {
     "name": "stdout",
     "output_type": "stream",
     "text": [
      "even and more than 20\n"
     ]
    }
   ],
   "source": [
    "## this code is just an extra code by me from my last memmories of pythone.\n",
    "age= int(input(\"enter your age\"))\n",
    "if age<20 :\n",
    "    if age%2==0:\n",
    "        print(\"less than 20 and even\")\n",
    "    elif age%2==1:\n",
    "        print(\"less than 20 and odd\")\n",
    "else:\n",
    "    if age%2==0:\n",
    "        print(\"even and more than 20\")\n",
    "    else:\n",
    "        print(\"odd and more than 20\")"
   ]
  },
  {
   "cell_type": "markdown",
   "id": "60297639-dd0c-4bb1-853b-36e144dbf105",
   "metadata": {},
   "source": [
    "### While loop"
   ]
  },
  {
   "cell_type": "code",
   "execution_count": 145,
   "id": "2bff1d59-36c5-4bdd-aac7-23274aa5df79",
   "metadata": {},
   "outputs": [
    {
     "name": "stdout",
     "output_type": "stream",
     "text": [
      "10\n",
      "9\n",
      "8\n",
      "7\n",
      "6\n",
      "5\n",
      "4\n",
      "3\n",
      "2\n",
      "1\n"
     ]
    }
   ],
   "source": [
    "tempInt = 10\n",
    "while tempInt > 0:\n",
    "    print(tempInt)\n",
    "    tempInt-=1 #temp_int -=1 === temp_int - 1"
   ]
  },
  {
   "cell_type": "code",
   "execution_count": 147,
   "id": "9853f362-9d5f-46ea-a576-fa54546f09ec",
   "metadata": {},
   "outputs": [
    {
     "name": "stdout",
     "output_type": "stream",
     "text": [
      "[0, 1, 1, 2, 3, 5, 8, 13, 21, 34, 55, 89]\n"
     ]
    }
   ],
   "source": [
    "n = 12  \n",
    "fib_sequence = [0, 1]\n",
    "\n",
    "for i in range(2, n):\n",
    "    fib_sequence.append(fib_sequence[-1] + fib_sequence[-2])\n",
    "    \n",
    "\n",
    "print(fib_sequence)"
   ]
  },
  {
   "cell_type": "code",
   "execution_count": 149,
   "id": "7b5cae3e-7bb7-48f6-9936-c2c6e859cbc7",
   "metadata": {},
   "outputs": [
    {
     "name": "stdout",
     "output_type": "stream",
     "text": [
      "[0, 1, 1, 2, 3, 5, 8, 13, 21, 34, 55, 89]\n"
     ]
    }
   ],
   "source": [
    "fib_sequence = [0, 1]\n",
    "\n",
    "while True:\n",
    "    next_number = fib_sequence[-1] + fib_sequence[-2]\n",
    "    if next_number >= 100:\n",
    "        break\n",
    "    fib_sequence.append(next_number)\n",
    "\n",
    "print(fib_sequence) "
   ]
  },
  {
   "cell_type": "code",
   "execution_count": 151,
   "id": "4d251d4e-8f4c-4c3d-be8f-c4d97057d9dc",
   "metadata": {},
   "outputs": [
    {
     "name": "stdout",
     "output_type": "stream",
     "text": [
      "[0, 1, 1, 2, 3, 5, 8, 13, 21, 34, 55, 89]\n"
     ]
    }
   ],
   "source": [
    "fib_sequence = [0, 1]\n",
    "\n",
    "while fib_sequence[-1] + fib_sequence[-2] < 100:\n",
    "    fib_sequence.append(fib_sequence[-1] + fib_sequence[-2])\n",
    "\n",
    "print(fib_sequence)"
   ]
  },
  {
   "cell_type": "markdown",
   "id": "b349481b-a3f1-4803-a417-c7ebbde76353",
   "metadata": {},
   "source": [
    "## Session 6"
   ]
  },
  {
   "cell_type": "markdown",
   "id": "858fea85-6a96-4550-8425-0adf8f01dccb",
   "metadata": {},
   "source": [
    "### _check if p is a prime number_"
   ]
  },
  {
   "cell_type": "code",
   "execution_count": 155,
   "id": "5fd08792-c1ea-4338-8e3d-d08c950f791d",
   "metadata": {},
   "outputs": [
    {
     "name": "stdout",
     "output_type": "stream",
     "text": [
      "is Prime\n"
     ]
    }
   ],
   "source": [
    "p = 5\n",
    "temp_P = p-1\n",
    "aya_aval_ast = True\n",
    "while temp_P > 1:\n",
    "    if p % temp_P == 0 :\n",
    "        aya_aval_ast = False\n",
    "        break\n",
    "    temp_P -= 1\n",
    "if aya_aval_ast:\n",
    "    print(\"is Prime\")\n",
    "else:\n",
    "    print(\"is not Prime\")"
   ]
  },
  {
   "cell_type": "markdown",
   "id": "2fce621d-d508-45f4-aa73-374ac3808a22",
   "metadata": {},
   "source": [
    "## Session 7"
   ]
  },
  {
   "cell_type": "markdown",
   "id": "e74a041f-951a-487f-a9ab-89026d438b62",
   "metadata": {},
   "source": [
    "### For loop"
   ]
  },
  {
   "cell_type": "code",
   "execution_count": 159,
   "id": "11f4cad0-bd54-48a2-8f4f-37e1767febf1",
   "metadata": {},
   "outputs": [
    {
     "name": "stdout",
     "output_type": "stream",
     "text": [
      "0\n",
      "1\n",
      "2\n",
      "3\n",
      "4\n",
      "5\n",
      "6\n",
      "7\n",
      "8\n",
      "9\n"
     ]
    }
   ],
   "source": [
    "for i in range(10):\n",
    "    print(i)"
   ]
  },
  {
   "cell_type": "code",
   "execution_count": 161,
   "id": "56031639-b4e3-4254-baed-00f08d1f29ff",
   "metadata": {},
   "outputs": [
    {
     "name": "stdout",
     "output_type": "stream",
     "text": [
      "10\n"
     ]
    }
   ],
   "source": [
    "sum =0\n",
    "for i in range (5):\n",
    "    sum+=i\n",
    "print(sum)"
   ]
  },
  {
   "cell_type": "code",
   "execution_count": 163,
   "id": "5129f721-9ce4-446d-980f-a7a54782c437",
   "metadata": {},
   "outputs": [
    {
     "name": "stdout",
     "output_type": "stream",
     "text": [
      "i=0,sum=0\n",
      "i=1,sum=1\n",
      "i=2,sum=3\n",
      "i=3,sum=6\n",
      "i=4,sum=10\n",
      "end\n"
     ]
    }
   ],
   "source": [
    "sum = 0\n",
    "for i in range(5):\n",
    "    sum+= i\n",
    "    print('i='+str(i)+',sum='+str(sum))\n",
    "print('end')"
   ]
  },
  {
   "cell_type": "code",
   "execution_count": 165,
   "id": "8a064601-fec1-423b-8eaa-23a7047e7a43",
   "metadata": {},
   "outputs": [
    {
     "name": "stdout",
     "output_type": "stream",
     "text": [
      "36288000\n"
     ]
    }
   ],
   "source": [
    "n = 10\n",
    "for i in range(1,n+1):\n",
    "    n *= i\n",
    "print(n)"
   ]
  },
  {
   "cell_type": "code",
   "execution_count": 167,
   "id": "3848264d-d786-4ad7-b9e7-8549ac9da3b5",
   "metadata": {},
   "outputs": [
    {
     "name": "stdout",
     "output_type": "stream",
     "text": [
      "3628800\n"
     ]
    }
   ],
   "source": [
    "n=10\n",
    "fact=1\n",
    "for i in range(n):\n",
    "    fact=fact*(i+1)\n",
    "print(fact)"
   ]
  },
  {
   "cell_type": "code",
   "execution_count": 169,
   "id": "6277155e-ffe1-43dc-8ab3-9a3424ee1934",
   "metadata": {},
   "outputs": [
    {
     "name": "stdout",
     "output_type": "stream",
     "text": [
      "600\n"
     ]
    }
   ],
   "source": [
    "n=5\n",
    "for i in range(5):\n",
    "    n=n*(i+1)\n",
    "print(n)"
   ]
  },
  {
   "cell_type": "code",
   "execution_count": 171,
   "id": "61f45d92-eaa6-4ea6-be83-52c67af065d4",
   "metadata": {},
   "outputs": [
    {
     "name": "stdout",
     "output_type": "stream",
     "text": [
      "2\n",
      "4\n",
      "6\n",
      "8\n"
     ]
    }
   ],
   "source": [
    "for i in range(2,9,2):\n",
    "    print(i)"
   ]
  },
  {
   "cell_type": "code",
   "execution_count": 173,
   "id": "08e0277f-1f1e-4707-a699-9f1f15101232",
   "metadata": {},
   "outputs": [
    {
     "name": "stdout",
     "output_type": "stream",
     "text": [
      "1\n",
      "2\n",
      "Hop\n",
      "4\n",
      "5\n",
      "Hop\n",
      "7\n",
      "8\n",
      "Hop\n",
      "10\n",
      "11\n",
      "Hop\n",
      "13\n",
      "14\n",
      "Hop\n",
      "16\n",
      "17\n",
      "Hop\n",
      "19\n",
      "20\n",
      "Hop\n",
      "22\n",
      "23\n",
      "Hop\n",
      "25\n"
     ]
    }
   ],
   "source": [
    "for i in range(0, 25):\n",
    "    if (i+1)%3!=0:\n",
    "        print(i+1)\n",
    "    else:\n",
    "        print(\"Hop\")"
   ]
  },
  {
   "cell_type": "markdown",
   "id": "6793aed8-62c9-4282-8253-585bfb2bba6d",
   "metadata": {},
   "source": [
    "## Session 8"
   ]
  },
  {
   "cell_type": "markdown",
   "id": "1cb1e3dd-89e5-4c3e-884d-68c705955478",
   "metadata": {},
   "source": [
    "## _Introduction to lists_"
   ]
  },
  {
   "cell_type": "code",
   "execution_count": 177,
   "id": "a61a0344-4bbc-44dc-a7aa-7b978c5d002e",
   "metadata": {},
   "outputs": [],
   "source": [
    "a=23"
   ]
  },
  {
   "cell_type": "code",
   "execution_count": 179,
   "id": "1e949f11-9c78-41d8-8274-5cfe3822debe",
   "metadata": {},
   "outputs": [
    {
     "data": {
      "text/plain": [
       "'23'"
      ]
     },
     "execution_count": 179,
     "metadata": {},
     "output_type": "execute_result"
    }
   ],
   "source": [
    "str(a)"
   ]
  },
  {
   "cell_type": "code",
   "execution_count": 181,
   "id": "a28019a6-1a71-417b-be75-88092a99f302",
   "metadata": {},
   "outputs": [
    {
     "name": "stdout",
     "output_type": "stream",
     "text": [
      "23\n"
     ]
    }
   ],
   "source": [
    "w=a+7\n",
    "print(a)"
   ]
  },
  {
   "cell_type": "code",
   "execution_count": 183,
   "id": "be27132d-815b-44d8-9ab2-507abf02370c",
   "metadata": {},
   "outputs": [],
   "source": [
    "pi= 3.14"
   ]
  },
  {
   "cell_type": "code",
   "execution_count": 185,
   "id": "9aced653-e4ca-4d4b-8484-9b47bbdb7d95",
   "metadata": {},
   "outputs": [
    {
     "data": {
      "text/plain": [
       "3"
      ]
     },
     "execution_count": 185,
     "metadata": {},
     "output_type": "execute_result"
    }
   ],
   "source": [
    "int(pi)"
   ]
  },
  {
   "cell_type": "code",
   "execution_count": 187,
   "id": "6f6eb8a5-c05b-4457-a235-45df569e2b74",
   "metadata": {},
   "outputs": [],
   "source": [
    "tempList=[22, 'Mahsa', 3.14]"
   ]
  },
  {
   "cell_type": "code",
   "execution_count": 189,
   "id": "4fe8f260-5704-4983-aa18-b941d4dddc04",
   "metadata": {},
   "outputs": [
    {
     "data": {
      "text/plain": [
       "[22, 'Mahsa']"
      ]
     },
     "execution_count": 189,
     "metadata": {},
     "output_type": "execute_result"
    }
   ],
   "source": [
    "tempList[:-1]"
   ]
  },
  {
   "cell_type": "code",
   "execution_count": 191,
   "id": "09a7b34b-116b-45d9-ab6a-5f2536b1aecc",
   "metadata": {},
   "outputs": [
    {
     "data": {
      "text/plain": [
       "['Mahsa', 3.14]"
      ]
     },
     "execution_count": 191,
     "metadata": {},
     "output_type": "execute_result"
    }
   ],
   "source": [
    "tempList[1:]"
   ]
  },
  {
   "cell_type": "code",
   "execution_count": 193,
   "id": "5483a6dc-0e96-4b20-8f8a-39012f7c9a83",
   "metadata": {},
   "outputs": [
    {
     "data": {
      "text/plain": [
       "3.14"
      ]
     },
     "execution_count": 193,
     "metadata": {},
     "output_type": "execute_result"
    }
   ],
   "source": [
    "tempList[2]"
   ]
  },
  {
   "cell_type": "code",
   "execution_count": 195,
   "id": "ff4f4627-0ec6-48f6-9a89-98908c425a87",
   "metadata": {},
   "outputs": [
    {
     "data": {
      "text/plain": [
       "'3.14'"
      ]
     },
     "execution_count": 195,
     "metadata": {},
     "output_type": "execute_result"
    }
   ],
   "source": [
    "str(tempList[2])"
   ]
  },
  {
   "cell_type": "markdown",
   "id": "9fa0224a-c641-4f62-8656-6bcbd02ad3ac",
   "metadata": {},
   "source": [
    "### Adding to the list"
   ]
  },
  {
   "cell_type": "code",
   "execution_count": 198,
   "id": "4dd33315-a36c-4b71-a24f-a2eb16155814",
   "metadata": {},
   "outputs": [],
   "source": [
    "tempList=tempList+[2, 'Programming', 2.71828]"
   ]
  },
  {
   "cell_type": "code",
   "execution_count": 200,
   "id": "6119b4ca-e9cf-4e34-888d-20b5307a9f9e",
   "metadata": {},
   "outputs": [
    {
     "data": {
      "text/plain": [
       "[22, 'Mahsa', 3.14, 2, 'Programming', 2.71828]"
      ]
     },
     "execution_count": 200,
     "metadata": {},
     "output_type": "execute_result"
    }
   ],
   "source": [
    "tempList"
   ]
  },
  {
   "cell_type": "code",
   "execution_count": 202,
   "id": "0c699eb1-2073-45d9-bae1-1c8d9f47bb37",
   "metadata": {},
   "outputs": [],
   "source": [
    "tempList+=['Ali']"
   ]
  },
  {
   "cell_type": "code",
   "execution_count": 204,
   "id": "a2ac1d0d-dee5-4ffb-a12d-82dffa95dc3a",
   "metadata": {},
   "outputs": [
    {
     "data": {
      "text/plain": [
       "[22, 'Mahsa', 3.14, 2, 'Programming', 2.71828, 'Ali']"
      ]
     },
     "execution_count": 204,
     "metadata": {},
     "output_type": "execute_result"
    }
   ],
   "source": [
    "tempList"
   ]
  },
  {
   "cell_type": "code",
   "execution_count": 206,
   "id": "6e3d1369-3cdb-4975-a386-522c348b9d4d",
   "metadata": {},
   "outputs": [],
   "source": [
    "tempList.append('Fazel')"
   ]
  },
  {
   "cell_type": "code",
   "execution_count": 208,
   "id": "8da80e46-4a73-4d22-b1c1-0c8ff6bd06f3",
   "metadata": {},
   "outputs": [
    {
     "data": {
      "text/plain": [
       "[22, 'Mahsa', 3.14, 2, 'Programming', 2.71828, 'Ali', 'Fazel']"
      ]
     },
     "execution_count": 208,
     "metadata": {},
     "output_type": "execute_result"
    }
   ],
   "source": [
    "tempList"
   ]
  },
  {
   "cell_type": "code",
   "execution_count": 210,
   "id": "6b6a1e40-2070-4883-8083-993287abe51b",
   "metadata": {},
   "outputs": [
    {
     "data": {
      "text/plain": [
       "['__add__',\n",
       " '__class__',\n",
       " '__class_getitem__',\n",
       " '__contains__',\n",
       " '__delattr__',\n",
       " '__delitem__',\n",
       " '__dir__',\n",
       " '__doc__',\n",
       " '__eq__',\n",
       " '__format__',\n",
       " '__ge__',\n",
       " '__getattribute__',\n",
       " '__getitem__',\n",
       " '__getstate__',\n",
       " '__gt__',\n",
       " '__hash__',\n",
       " '__iadd__',\n",
       " '__imul__',\n",
       " '__init__',\n",
       " '__init_subclass__',\n",
       " '__iter__',\n",
       " '__le__',\n",
       " '__len__',\n",
       " '__lt__',\n",
       " '__mul__',\n",
       " '__ne__',\n",
       " '__new__',\n",
       " '__reduce__',\n",
       " '__reduce_ex__',\n",
       " '__repr__',\n",
       " '__reversed__',\n",
       " '__rmul__',\n",
       " '__setattr__',\n",
       " '__setitem__',\n",
       " '__sizeof__',\n",
       " '__str__',\n",
       " '__subclasshook__',\n",
       " 'append',\n",
       " 'clear',\n",
       " 'copy',\n",
       " 'count',\n",
       " 'extend',\n",
       " 'index',\n",
       " 'insert',\n",
       " 'pop',\n",
       " 'remove',\n",
       " 'reverse',\n",
       " 'sort']"
      ]
     },
     "execution_count": 210,
     "metadata": {},
     "output_type": "execute_result"
    }
   ],
   "source": [
    "dir(tempList)"
   ]
  },
  {
   "cell_type": "code",
   "execution_count": 212,
   "id": "a57403f4-e33a-417d-bf5d-74843ab0f575",
   "metadata": {},
   "outputs": [
    {
     "data": {
      "text/plain": [
       "['__abs__',\n",
       " '__add__',\n",
       " '__and__',\n",
       " '__bool__',\n",
       " '__ceil__',\n",
       " '__class__',\n",
       " '__delattr__',\n",
       " '__dir__',\n",
       " '__divmod__',\n",
       " '__doc__',\n",
       " '__eq__',\n",
       " '__float__',\n",
       " '__floor__',\n",
       " '__floordiv__',\n",
       " '__format__',\n",
       " '__ge__',\n",
       " '__getattribute__',\n",
       " '__getnewargs__',\n",
       " '__getstate__',\n",
       " '__gt__',\n",
       " '__hash__',\n",
       " '__index__',\n",
       " '__init__',\n",
       " '__init_subclass__',\n",
       " '__int__',\n",
       " '__invert__',\n",
       " '__le__',\n",
       " '__lshift__',\n",
       " '__lt__',\n",
       " '__mod__',\n",
       " '__mul__',\n",
       " '__ne__',\n",
       " '__neg__',\n",
       " '__new__',\n",
       " '__or__',\n",
       " '__pos__',\n",
       " '__pow__',\n",
       " '__radd__',\n",
       " '__rand__',\n",
       " '__rdivmod__',\n",
       " '__reduce__',\n",
       " '__reduce_ex__',\n",
       " '__repr__',\n",
       " '__rfloordiv__',\n",
       " '__rlshift__',\n",
       " '__rmod__',\n",
       " '__rmul__',\n",
       " '__ror__',\n",
       " '__round__',\n",
       " '__rpow__',\n",
       " '__rrshift__',\n",
       " '__rshift__',\n",
       " '__rsub__',\n",
       " '__rtruediv__',\n",
       " '__rxor__',\n",
       " '__setattr__',\n",
       " '__sizeof__',\n",
       " '__str__',\n",
       " '__sub__',\n",
       " '__subclasshook__',\n",
       " '__truediv__',\n",
       " '__trunc__',\n",
       " '__xor__',\n",
       " 'as_integer_ratio',\n",
       " 'bit_count',\n",
       " 'bit_length',\n",
       " 'conjugate',\n",
       " 'denominator',\n",
       " 'from_bytes',\n",
       " 'imag',\n",
       " 'is_integer',\n",
       " 'numerator',\n",
       " 'real',\n",
       " 'to_bytes']"
      ]
     },
     "execution_count": 212,
     "metadata": {},
     "output_type": "execute_result"
    }
   ],
   "source": [
    "dir(2)"
   ]
  },
  {
   "cell_type": "code",
   "execution_count": 214,
   "id": "f6d3e968-1f52-4c71-8de4-601c3b82c202",
   "metadata": {},
   "outputs": [
    {
     "data": {
      "text/plain": [
       "'Mahsa'"
      ]
     },
     "execution_count": 214,
     "metadata": {},
     "output_type": "execute_result"
    }
   ],
   "source": [
    "tempList.pop(1)"
   ]
  },
  {
   "cell_type": "code",
   "execution_count": 216,
   "id": "f830c6d6-6f50-456e-8f02-25be947fbcd3",
   "metadata": {},
   "outputs": [
    {
     "data": {
      "text/plain": [
       "[22, 3.14, 2, 'Programming', 2.71828, 'Ali', 'Fazel']"
      ]
     },
     "execution_count": 216,
     "metadata": {},
     "output_type": "execute_result"
    }
   ],
   "source": [
    "tempList"
   ]
  },
  {
   "cell_type": "code",
   "execution_count": 218,
   "id": "a53ba3ef-ad05-479c-b513-ad356f502b5e",
   "metadata": {},
   "outputs": [],
   "source": [
    "ages=[23, 33, 44, 67, 67.9]\n",
    "ages.sort()"
   ]
  },
  {
   "cell_type": "code",
   "execution_count": 220,
   "id": "8b3a56bc-a130-4652-bcf3-bdca8f165e0f",
   "metadata": {},
   "outputs": [
    {
     "data": {
      "text/plain": [
       "[23, 33, 44, 67, 67.9]"
      ]
     },
     "execution_count": 220,
     "metadata": {},
     "output_type": "execute_result"
    }
   ],
   "source": [
    "ages"
   ]
  },
  {
   "cell_type": "code",
   "execution_count": null,
   "id": "4191f5d3-b280-4c6a-81e1-c4f2d9213816",
   "metadata": {},
   "outputs": [],
   "source": []
  },
  {
   "cell_type": "code",
   "execution_count": 223,
   "id": "df7fd547-62aa-4074-b0f0-5f26026c515b",
   "metadata": {},
   "outputs": [
    {
     "data": {
      "text/plain": [
       "['23', '33', '44', '6.9', '67']"
      ]
     },
     "execution_count": 223,
     "metadata": {},
     "output_type": "execute_result"
    }
   ],
   "source": [
    "ages=['23', '33', '44', '67', '6.9']\n",
    "ages.sort()\n",
    "ages"
   ]
  },
  {
   "cell_type": "code",
   "execution_count": 225,
   "id": "14999500-6571-47cc-bde1-4e44b45a3f13",
   "metadata": {},
   "outputs": [
    {
     "data": {
      "text/plain": [
       "['2', '35', '4', 'A', 'B', 'b', 's']"
      ]
     },
     "execution_count": 225,
     "metadata": {},
     "output_type": "execute_result"
    }
   ],
   "source": [
    "p=['s', '2', '35', 'b', 'A', 'B', '4']\n",
    "p.sort()\n",
    "p"
   ]
  },
  {
   "cell_type": "markdown",
   "id": "4819597f-8894-4e79-823e-36e0e72d03b4",
   "metadata": {},
   "source": [
    "#### Nesting"
   ]
  },
  {
   "cell_type": "code",
   "execution_count": 228,
   "id": "af7c714e-7557-467e-b7dc-c56d7bf0cd4e",
   "metadata": {},
   "outputs": [
    {
     "data": {
      "text/plain": [
       "7"
      ]
     },
     "execution_count": 228,
     "metadata": {},
     "output_type": "execute_result"
    }
   ],
   "source": [
    "nestedArray=[[2,8,9],[9,8,7],[3,6,5]]\n",
    "nestedArray[1][2]"
   ]
  },
  {
   "cell_type": "code",
   "execution_count": 230,
   "id": "a7c9ec99-9963-428b-a7b7-419ab018db90",
   "metadata": {},
   "outputs": [
    {
     "name": "stdout",
     "output_type": "stream",
     "text": [
      "20\n",
      "17\n",
      "1\n",
      "12\n"
     ]
    }
   ],
   "source": [
    "my_grades = [20,17,1,12]\n",
    "\n",
    "for i in my_grades:\n",
    "    print(i)"
   ]
  },
  {
   "cell_type": "code",
   "execution_count": 232,
   "id": "0298e310-294c-4db3-aadf-2635e9efa067",
   "metadata": {},
   "outputs": [],
   "source": [
    "courses = ['Math', 'Physics', 'Programming', 'History']"
   ]
  },
  {
   "cell_type": "code",
   "execution_count": 234,
   "id": "4c8bcd95-8016-49c1-8ac2-87524f43dad4",
   "metadata": {},
   "outputs": [
    {
     "name": "stdout",
     "output_type": "stream",
     "text": [
      "Course: Math, Grade: 20\n",
      "Course: Physics, Grade: 17\n",
      "Course: Programming, Grade: 1\n",
      "Course: History, Grade: 12\n"
     ]
    }
   ],
   "source": [
    "for i in range(len(courses)):\n",
    "    print(f\"Course: {courses[i]}, Grade: {my_grades[i]}\")"
   ]
  },
  {
   "cell_type": "code",
   "execution_count": 236,
   "id": "eb44d645-28ef-46ee-8212-efe4e5999346",
   "metadata": {},
   "outputs": [
    {
     "name": "stdout",
     "output_type": "stream",
     "text": [
      "16 is for physics\n",
      "20 is for chemistry\n",
      "18 is for ap\n",
      "12 is for ss\n"
     ]
    }
   ],
   "source": [
    "myScore=[9,16,20,18,12]\n",
    "myCourses=['math','physics','chemistry','ap','ss']\n",
    "a=[]\n",
    "for i in range(len(myScore)):\n",
    "    if myScore[i]>=10:\n",
    "        print(myScore[i],\"is for\", myCourses[i])\n",
    "        "
   ]
  },
  {
   "cell_type": "markdown",
   "id": "a313ff1f-7834-4ab2-bbc7-7535442d0bf4",
   "metadata": {},
   "source": [
    "#### Q. Print courses that you passed in the decending order"
   ]
  },
  {
   "cell_type": "code",
   "execution_count": 239,
   "id": "fceaa291-df26-4eaa-bcaa-92c0f256507c",
   "metadata": {},
   "outputs": [
    {
     "name": "stdout",
     "output_type": "stream",
     "text": [
      "Physics = 17\n",
      "Programming = 18\n",
      "Theory of probability = 19\n"
     ]
    }
   ],
   "source": [
    "my_grades = [9,17,18,19]\n",
    "my_classes = ['Math', 'Physics', 'Programming', 'Theory of probability']\n",
    "for i in range(len(my_grades)):\n",
    "    if my_grades[i] >= 10:\n",
    "        print(my_classes[i],'=',my_grades[i])"
   ]
  },
  {
   "cell_type": "code",
   "execution_count": 241,
   "id": "656ff4e5-8ba3-4ff9-9629-8cebf6c2c9be",
   "metadata": {},
   "outputs": [
    {
     "name": "stdout",
     "output_type": "stream",
     "text": [
      "Math=9\n",
      "Physics=17\n",
      "Programming=18\n",
      "Theory of probability=19\n"
     ]
    }
   ],
   "source": [
    "for i in range(len(my_grades)):\n",
    "    print(my_classes[i]+'='+str(my_grades[i]))"
   ]
  },
  {
   "cell_type": "markdown",
   "id": "f3a36aac-c5b0-4309-a25f-46d7757adaa2",
   "metadata": {},
   "source": [
    "### Floor and Ceiling Function"
   ]
  },
  {
   "cell_type": "code",
   "execution_count": 244,
   "id": "3b1c1b46-1dd3-4ed0-81b2-99d5324190f7",
   "metadata": {},
   "outputs": [
    {
     "data": {
      "text/plain": [
       "3"
      ]
     },
     "execution_count": 244,
     "metadata": {},
     "output_type": "execute_result"
    }
   ],
   "source": [
    "pi = 3.14\n",
    "int(pi)"
   ]
  },
  {
   "cell_type": "code",
   "execution_count": 246,
   "id": "fc6301b0-7cb6-4f8f-8fdb-a43e3f26f7a8",
   "metadata": {},
   "outputs": [
    {
     "data": {
      "text/plain": [
       "2"
      ]
     },
     "execution_count": 246,
     "metadata": {},
     "output_type": "execute_result"
    }
   ],
   "source": [
    "e = 2.7\n",
    "int(e)"
   ]
  },
  {
   "cell_type": "markdown",
   "id": "7a2518b2-e998-4ea6-8a5e-74baf4e599fe",
   "metadata": {},
   "source": [
    "## Session 9"
   ]
  },
  {
   "cell_type": "markdown",
   "id": "b66f32cb-3116-4cd9-b93e-0fe24f5fc0d9",
   "metadata": {},
   "source": [
    " #### Dictionaries"
   ]
  },
  {
   "cell_type": "code",
   "execution_count": 250,
   "id": "2c2ddaf2-442e-4b24-8745-37c6e260e728",
   "metadata": {},
   "outputs": [
    {
     "name": "stdout",
     "output_type": "stream",
     "text": [
      "{'First name': 'Mahsa', 'Last name': 'Keshavarzi Nejad', 'age': 22}\n"
     ]
    }
   ],
   "source": [
    "myProfile={'First name':'Mahsa', 'Last name':'Keshavarzi Nejad', 'age':22}\n",
    "print(myProfile)"
   ]
  },
  {
   "cell_type": "code",
   "execution_count": 252,
   "id": "5da3bd38-1a40-4045-a759-2c0f3fad34dd",
   "metadata": {},
   "outputs": [
    {
     "name": "stdout",
     "output_type": "stream",
     "text": [
      "{'name': {'first name': 'Mahsa', 'last name': 'kzn'}, 'age': 22}\n"
     ]
    }
   ],
   "source": [
    "nameDict={'first name':'Mahsa', 'last name':'kzn'}\n",
    "myProfile={'name':nameDict, 'age':22}\n",
    "print(myProfile)"
   ]
  },
  {
   "cell_type": "code",
   "execution_count": 254,
   "id": "bc142fb3-cd9a-456d-9007-1ee2da9fe8f4",
   "metadata": {},
   "outputs": [],
   "source": [
    "cities=['Tehran','Shiraz','Rasht','Mashhad']"
   ]
  },
  {
   "cell_type": "code",
   "execution_count": 256,
   "id": "9dc84cff-d6d0-4584-ba4c-d0bde08f3ec1",
   "metadata": {},
   "outputs": [
    {
     "name": "stdout",
     "output_type": "stream",
     "text": [
      "{'name': {'first name': 'Mahsa', 'last name': 'kzn'}, 'age': 22, 'cities': ['Tehran', 'Shiraz', 'Rasht', 'Mashhad']}\n"
     ]
    }
   ],
   "source": [
    "myProfile['cities'] = cities\n",
    "print(myProfile)"
   ]
  },
  {
   "cell_type": "code",
   "execution_count": 258,
   "id": "5d5328d1-7591-46a7-902a-7551bae8300e",
   "metadata": {},
   "outputs": [
    {
     "data": {
      "text/plain": [
       "'Tehran'"
      ]
     },
     "execution_count": 258,
     "metadata": {},
     "output_type": "execute_result"
    }
   ],
   "source": [
    "myProfile[\"cities\"][0]"
   ]
  },
  {
   "cell_type": "code",
   "execution_count": 260,
   "id": "aba12244-5e86-4edd-a511-d7392a2e5681",
   "metadata": {},
   "outputs": [],
   "source": [
    "myProfile[\"friends\"]=[\n",
    "    {'firstname': 'Fazel', 'Lastname': 'Basiri', 'age': 25, 'id':13}, \n",
    "    {'firstname': 'Niayesh', 'lastname': 'Mohammadi', 'age':22, 'id':0}]"
   ]
  },
  {
   "cell_type": "code",
   "execution_count": 262,
   "id": "3e218507-6ff4-4e7f-88c6-efa5a2f1a563",
   "metadata": {},
   "outputs": [
    {
     "name": "stdout",
     "output_type": "stream",
     "text": [
      "{'name': {'first name': 'Mahsa', 'last name': 'kzn'}, 'age': 22, 'cities': ['Tehran', 'Shiraz', 'Rasht', 'Mashhad'], 'friends': [{'firstname': 'Fazel', 'Lastname': 'Basiri', 'age': 25, 'id': 13}, {'firstname': 'Niayesh', 'lastname': 'Mohammadi', 'age': 22, 'id': 0}]}\n"
     ]
    }
   ],
   "source": [
    "print(myProfile)"
   ]
  },
  {
   "cell_type": "code",
   "execution_count": 264,
   "id": "d81d3001-61f6-4e8d-9c80-4baa85de2d4d",
   "metadata": {},
   "outputs": [
    {
     "name": "stdout",
     "output_type": "stream",
     "text": [
      "{'name': {'first name': 'Mahsa', 'last name': 'kzn'}, 'age': 22, 'cities': ['Tehran', 'Shiraz', 'Rasht', 'Mashhad'], 'friends': [{'firstname': 'Fazel', 'Lastname': 'Basiri', 'age': 25, 'id': 13}, {'firstname': 'Niayesh', 'lastname': 'Mohammadi', 'age': 22, 'id': 0}]}\n"
     ]
    }
   ],
   "source": [
    "print(myProfile)"
   ]
  },
  {
   "cell_type": "code",
   "execution_count": 266,
   "id": "2b890f0e-bc53-4310-8bf9-2e1e8057aba3",
   "metadata": {},
   "outputs": [
    {
     "data": {
      "text/plain": [
       "'Mashhad'"
      ]
     },
     "execution_count": 266,
     "metadata": {},
     "output_type": "execute_result"
    }
   ],
   "source": [
    "myProfile['cities'][-1]"
   ]
  },
  {
   "cell_type": "code",
   "execution_count": 268,
   "id": "b14651fb-45a9-4a16-ba3f-b3d8d887f75f",
   "metadata": {},
   "outputs": [
    {
     "data": {
      "text/plain": [
       "{'name': {'first name': 'Mahsa', 'last name': 'kzn'},\n",
       " 'age': 22,\n",
       " 'cities': ['Tehran', 'Shiraz', 'Rasht', 'Mashhad'],\n",
       " 'friends': [{'firstname': 'Fazel', 'Lastname': 'Basiri', 'age': 25, 'id': 13},\n",
       "  {'firstname': 'Niayesh', 'lastname': 'Mohammadi', 'age': 22, 'id': 0},\n",
       "  {'first name': 'Gita', 'Last name': '-', 'age': 22, 'Id': '3'}]}"
      ]
     },
     "execution_count": 268,
     "metadata": {},
     "output_type": "execute_result"
    }
   ],
   "source": [
    "myProfile['friends'].append({'first name': 'Gita' , 'Last name': '-', 'age': 22 , 'Id':'3'})\n",
    "myProfile"
   ]
  },
  {
   "cell_type": "markdown",
   "id": "4d0017a7-d974-4ebe-bd1e-e8fe71a4b9c1",
   "metadata": {},
   "source": [
    "#### Q. Print the name of the oldest friend and average age of your friends"
   ]
  },
  {
   "cell_type": "code",
   "execution_count": 271,
   "id": "53d2a9e1-59fb-4a05-b959-fcab1d450421",
   "metadata": {},
   "outputs": [],
   "source": [
    "def oldestAverageFriend(myProfile):\n",
    "    maxAge = 0\n",
    "    maxFriend = 0\n",
    "    sumAge = 0\n",
    "    for i in myProfile[\"friends\"]:\n",
    "        sumAge += i[\"age\"]\n",
    "        if i[\"age\"] > maxAge:\n",
    "            maxAge = i[\"age\"]\n",
    "            maxFriend = i\n",
    "    averageAge = sumAge / len(myProfile[\"friends\"])\n",
    "    return [maxFriend,averageAge ]"
   ]
  },
  {
   "cell_type": "code",
   "execution_count": 273,
   "id": "ff755002-0635-45f7-ba8d-b36a598a6e18",
   "metadata": {},
   "outputs": [
    {
     "name": "stdout",
     "output_type": "stream",
     "text": [
      "Fazel\n",
      "23.0\n",
      "[{'firstname': 'Fazel', 'Lastname': 'Basiri', 'age': 25, 'id': 13}, 23.0]\n"
     ]
    }
   ],
   "source": [
    "oldestFriend = oldestAverageFriend(myProfile)[0]\n",
    "print(oldestFriend[\"firstname\"])\n",
    "averageAgeOfFriend = oldestAverageFriend(myProfile)[1]\n",
    "print(averageAgeOfFriend)\n",
    "output = oldestAverageFriend(myProfile)\n",
    "print(output)\n"
   ]
  },
  {
   "cell_type": "markdown",
   "id": "413d844b-5494-46da-9564-929a232a010e",
   "metadata": {},
   "source": [
    "## Session 10"
   ]
  },
  {
   "cell_type": "code",
   "execution_count": 276,
   "id": "f6167b90-895a-49d4-a1a6-429acfccd829",
   "metadata": {},
   "outputs": [
    {
     "data": {
      "text/plain": [
       "dict_keys(['name', 'age', 'cities', 'friends'])"
      ]
     },
     "execution_count": 276,
     "metadata": {},
     "output_type": "execute_result"
    }
   ],
   "source": [
    "myProfile.keys()"
   ]
  },
  {
   "cell_type": "code",
   "execution_count": 278,
   "id": "9c669c96-93c5-4933-97a8-f16e2bf66345",
   "metadata": {},
   "outputs": [
    {
     "data": {
      "text/plain": [
       "dict_values([{'first name': 'Mahsa', 'last name': 'kzn'}, 22, ['Tehran', 'Shiraz', 'Rasht', 'Mashhad'], [{'firstname': 'Fazel', 'Lastname': 'Basiri', 'age': 25, 'id': 13}, {'firstname': 'Niayesh', 'lastname': 'Mohammadi', 'age': 22, 'id': 0}, {'first name': 'Gita', 'Last name': '-', 'age': 22, 'Id': '3'}]])"
      ]
     },
     "execution_count": 278,
     "metadata": {},
     "output_type": "execute_result"
    }
   ],
   "source": [
    "myProfile.values()"
   ]
  },
  {
   "cell_type": "code",
   "execution_count": 280,
   "id": "12fdc0bc-1f0c-4d22-8f4e-f3d6102e7d17",
   "metadata": {},
   "outputs": [
    {
     "name": "stdout",
     "output_type": "stream",
     "text": [
      "age exists\n"
     ]
    }
   ],
   "source": [
    "if \"age\" in myProfile.keys():\n",
    "    print(\"age exists\")\n",
    "    \n",
    "else:\n",
    "    print(\"age doesn't exists\")\n"
   ]
  },
  {
   "cell_type": "code",
   "execution_count": 282,
   "id": "af66328e-2b33-4cc6-9214-806b67aa3a3e",
   "metadata": {},
   "outputs": [
    {
     "name": "stdout",
     "output_type": "stream",
     "text": [
      "allowed to drink\n"
     ]
    }
   ],
   "source": [
    "if \"age\" in myProfile.keys():\n",
    "    if (myProfile[\"age\"])>=18:\n",
    "        print(\"allowed to drink\")\n",
    "    else:\n",
    "        print(\"forbbiden!\")"
   ]
  },
  {
   "cell_type": "code",
   "execution_count": 284,
   "id": "215b7422-4b9d-4b7c-8f85-92572247d250",
   "metadata": {},
   "outputs": [],
   "source": [
    "tempFile= open('myProfile.txt', 'w')\n",
    "tempFile.write(str(myProfile))\n",
    "tempFile.close()"
   ]
  },
  {
   "cell_type": "code",
   "execution_count": 286,
   "id": "6c5d18cf-5f4a-4937-b390-a6be5a6bc75b",
   "metadata": {},
   "outputs": [],
   "source": [
    "amirFile= open('amirProfile.txt', 'r')\n",
    "amirProfile= amirFile.read()\n",
    "amirFile.close()"
   ]
  },
  {
   "cell_type": "code",
   "execution_count": 288,
   "id": "61d0d9b7-4d29-4a63-a2fc-cb62eb0c5653",
   "metadata": {},
   "outputs": [
    {
     "name": "stdout",
     "output_type": "stream",
     "text": [
      "{'name': {'firstName': 'Amirhoshang', 'lastName': 'Hoseinpour Dehkordi'}, 'age': 34, 'cities': ['Tehran', 'Boston', 'Shahrekord'], 'farhadFriends': {'bestFriend': {'firstName': 'Philip', 'lastName': 'Fry', 'age': 35, 'id': 0}, 'lastButNotLeastFriend': {'firstName': 'Bender', 'lastName': 'Bending Rodrï¿½guez', 'age': 4, 'id': 1}, 0: {'firstName': 'Bender1', 'lastName': 'Bending Rodrï¿½guez', 'age': 4, 'id': 1}, 1: {'firstName': 'Bender2', 'lastName': 'Bending Rodrï¿½guez', 'age': 4, 'id': 1}, 2: {'firstName': 'Bender3', 'lastName': 'Bending Rodrï¿½guez', 'age': 4, 'id': 1}}, 'friends': [{'firstName': 'Philip', 'lastName': 'Fry', 'age': 35, 'id': 0}, {'firstName': 'Bender', 'lastName': 'Bending Rodrï¿½guez', 'age': 4, 'id': 1}, {'firstName': 'Amy', 'lastName': 'Wong', 'age': 30, 'id': 2}]}\n",
      "\n"
     ]
    }
   ],
   "source": [
    "print(amirProfile)"
   ]
  },
  {
   "cell_type": "markdown",
   "id": "ec8b3b69-0aa3-47d0-94f7-9017a3ecf0cf",
   "metadata": {},
   "source": [
    "## Session 11"
   ]
  },
  {
   "cell_type": "markdown",
   "id": "e0f9fe00-0472-47e1-b12e-e07a5f5f4e83",
   "metadata": {},
   "source": [
    "## Function"
   ]
  },
  {
   "cell_type": "code",
   "execution_count": 292,
   "id": "2a3c2d86-a85c-4335-8c1b-ffb2c0e8b6bd",
   "metadata": {},
   "outputs": [
    {
     "name": "stdout",
     "output_type": "stream",
     "text": [
      "5\n"
     ]
    }
   ],
   "source": [
    "print(len(\"Mahsa\"))"
   ]
  },
  {
   "cell_type": "code",
   "execution_count": 294,
   "id": "c01ac650-e1f2-4953-9013-7258b3aeb0ce",
   "metadata": {},
   "outputs": [],
   "source": [
    "def nameFunction(myInput):\n",
    "    ## print(myInput)\n",
    "    return myInput*2"
   ]
  },
  {
   "cell_type": "code",
   "execution_count": 296,
   "id": "7e0eb001-a58a-4926-bc32-2a4c1c201a31",
   "metadata": {},
   "outputs": [],
   "source": [
    "myFunctionValue=nameFunction('Mahsa')"
   ]
  },
  {
   "cell_type": "code",
   "execution_count": 298,
   "id": "69975997-8f4d-452d-9b13-02b44677b493",
   "metadata": {},
   "outputs": [
    {
     "data": {
      "text/plain": [
       "'MahsaMahsa'"
      ]
     },
     "execution_count": 298,
     "metadata": {},
     "output_type": "execute_result"
    }
   ],
   "source": [
    "myFunctionValue"
   ]
  },
  {
   "cell_type": "markdown",
   "id": "0b3f5093-d419-4d36-a55b-ffa4d1ae2ea5",
   "metadata": {},
   "source": [
    "#### Fobonacci using function\n",
    "    "
   ]
  },
  {
   "cell_type": "code",
   "execution_count": 301,
   "id": "040f6c31-cc3f-4035-ae1b-4a13525223ab",
   "metadata": {},
   "outputs": [
    {
     "name": "stdout",
     "output_type": "stream",
     "text": [
      "[0, 1, 1, 2, 3, 5, 8, 13, 21, 34]\n"
     ]
    }
   ],
   "source": [
    "def Fib(n):\n",
    "    fib_sequence = [0, 1]\n",
    "    \n",
    "    while len(fib_sequence) < n:\n",
    "        fib_sequence.append(fib_sequence[-1] + fib_sequence[-2])\n",
    "    \n",
    "    return fib_sequence\n",
    "\n",
    "\n",
    "print(Fib(10))  \n"
   ]
  },
  {
   "cell_type": "markdown",
   "id": "58a8fb2e-2c6c-4b9e-9248-b8abb0605cea",
   "metadata": {},
   "source": [
    "**function for fib**\n",
    "\n"
   ]
  },
  {
   "cell_type": "code",
   "execution_count": 304,
   "id": "1ffc917e-4145-4d6b-b842-06be992e99c5",
   "metadata": {},
   "outputs": [
    {
     "name": "stdout",
     "output_type": "stream",
     "text": [
      "MahsaMahsaMahsaMahsaMahsaMahsaMahsaMahsaMahsaMahsaMahsaMahsaMahsaMahsaMahsaMahsaMahsaMahsaMahsaMahsaMahsaMahsaMahsaMahsaMahsaMahsaMahsaMahsaMahsaMahsaMahsaMahsa\n"
     ]
    }
   ],
   "source": [
    "n=5\n",
    "mult=1\n",
    "for i in range(n):\n",
    "    mult=mult*2\n",
    "a=mult\n",
    "print(myName*a)"
   ]
  },
  {
   "cell_type": "code",
   "execution_count": 306,
   "id": "afd9f8df-bc14-4c7e-8b14-cf6122b3e3eb",
   "metadata": {},
   "outputs": [
    {
     "data": {
      "text/plain": [
       "128"
      ]
     },
     "execution_count": 306,
     "metadata": {},
     "output_type": "execute_result"
    }
   ],
   "source": [
    "def power2(n):\n",
    "    mult=1\n",
    "    for i in range(n):\n",
    "        mult=mult*2\n",
    "    return(mult)\n",
    "power2(7)"
   ]
  },
  {
   "cell_type": "code",
   "execution_count": 308,
   "id": "0ebefe81-d7b7-4477-81ce-546dd37a9648",
   "metadata": {},
   "outputs": [
    {
     "data": {
      "text/plain": [
       "81"
      ]
     },
     "execution_count": 308,
     "metadata": {},
     "output_type": "execute_result"
    }
   ],
   "source": [
    "def power_k(k, n):\n",
    "    mult=1\n",
    "    for i in range(n):\n",
    "        mult=mult*k\n",
    "    return(mult)\n",
    "power_k(3,4)"
   ]
  },
  {
   "cell_type": "markdown",
   "id": "5f11b7b5-e365-4f29-ba22-dc08c61d56eb",
   "metadata": {},
   "source": [
    "#### Hop using function"
   ]
  },
  {
   "cell_type": "markdown",
   "id": "02e59146-0dec-4be4-a9cb-60337cb9f538",
   "metadata": {},
   "source": [
    "## Session 12\n",
    "## Data flow"
   ]
  },
  {
   "cell_type": "code",
   "execution_count": 312,
   "id": "b1aa55db-bb43-4329-87c5-3f590fb1b78a",
   "metadata": {},
   "outputs": [
    {
     "data": {
      "text/plain": [
       "{'name': {'first name': 'Mahsa', 'last name': 'kzn'},\n",
       " 'age': 22,\n",
       " 'cities': ['Tehran', 'Shiraz', 'Rasht', 'Mashhad'],\n",
       " 'friends': [{'firstname': 'Fazel', 'Lastname': 'Basiri', 'age': 25, 'id': 13},\n",
       "  {'firstname': 'Niayesh', 'lastname': 'Mohammadi', 'age': 22, 'id': 0},\n",
       "  {'first name': 'Gita', 'Last name': '-', 'age': 22, 'Id': '3'}],\n",
       " 'id': 14}"
      ]
     },
     "execution_count": 312,
     "metadata": {},
     "output_type": "execute_result"
    }
   ],
   "source": [
    "myId = 14\n",
    "myProfile[\"id\"] = myId\n",
    "myProfile"
   ]
  },
  {
   "cell_type": "code",
   "execution_count": 314,
   "id": "c3b00856-ecce-41a9-ac44-5b65a618c393",
   "metadata": {},
   "outputs": [],
   "source": [
    "temp_file = open(str(myProfile[\"id\"])+\".txt\" , \"w\")\n",
    "temp_file.write(str(myProfile))\n",
    "temp_file.close()"
   ]
  },
  {
   "cell_type": "markdown",
   "id": "6306c517-2fb4-4c74-b0d6-326125f2925a",
   "metadata": {},
   "source": [
    "### Opening TXT files"
   ]
  },
  {
   "cell_type": "code",
   "execution_count": 317,
   "id": "ade63616-ada0-4acb-b653-605c30883135",
   "metadata": {},
   "outputs": [
    {
     "name": "stdout",
     "output_type": "stream",
     "text": [
      "{'name': {'first_name': 'Shayan', 'last_name': 'Shahvari'}, 'age': 20, 'cities': ['Tehran', 'Moscow', 'Kish'], 'friends': [{'first_name': 'Parsa', 'last_name': 'khaki', 'age': 30, 'id': 0}, {'first_name': 'Kiavash', 'last_name': 'abbasnejad', 'age': 37, 'id': 1}, {'first_name': 'Kourosh', 'last_name': 'ikani', 'age': 20}], 'id': 1}\n"
     ]
    }
   ],
   "source": [
    "f = open(\"Classmates/1.txt\")\n",
    "data = f.read()\n",
    "print(data)"
   ]
  },
  {
   "cell_type": "code",
   "execution_count": 319,
   "id": "13c8690e-4d08-44e6-9738-971615367544",
   "metadata": {},
   "outputs": [
    {
     "name": "stdout",
     "output_type": "stream",
     "text": [
      "Contents of Classmates\\1.txt:\n",
      "{'name': {'first_name': 'Shayan', 'last_name': 'Shahvari'}, 'age': 20, 'cities': ['Tehran', 'Moscow', 'Kish'], 'friends': [{'first_name': 'Parsa', 'last_name': 'khaki', 'age': 30, 'id': 0}, {'first_name': 'Kiavash', 'last_name': 'abbasnejad', 'age': 37, 'id': 1}, {'first_name': 'Kourosh', 'last_name': 'ikani', 'age': 20}], 'id': 1}\n",
      "\n",
      "\n",
      "Contents of Classmates\\10.txt:\n",
      "{'name': {'firstName': 'amir_ali', 'lastName': 'mohammadi'}, 'age': 22, 'id': 10, 'cities': ['Tehran', 'kish', 'kabul'], 'farhadFriends': {'bestFriend': {'firstName': 'ikkin', 'lastName': 'golabi', 'age': 2, 'id': 0}, 'lastButNotLeastFriend': {'firstName': 'hossein', 'lastName': 'hezarpa', 'age': 40, 'id': 1}, 0: {'firstName': 'pedram', 'lastName': 'shahraki', 'age': 13, 'id': 1}, 1: {'firstName': 'Bender2', 'lastName': 'Bending Rodríguez', 'age': 4, 'id': 1}, 2: {'firstName': 'shahrooz', 'lastName': 'shabpareh', 'age': 60, 'id': 1}}, 'friends': [{'firstName': 'kamran', 'lastName': 'Fry', 'age': 80, 'id': 0}, {'firstName': 'aligoodarz', 'lastName': 'baboli', 'age': 4, 'id': 1}, {'firstName': 'parham', 'lastName': 'Wong', 'age': 30, 'id': 2}]}\n",
      "\n",
      "\n",
      "Contents of Classmates\\11.txt:\n",
      "{'name': {'first_name': 'Parsa', 'last_name': 'Mollaei'}, 'age': 22, 'my_id': 11, 'cities': ['tehran', 'esfehan', 'kerman'], 'friends': [{'first_name': 'ali', 'last_name': 'Barkhodari', 'age': 22, 'id': '2'}, {'first_name': 'AmirHossein', 'last_name': 'yousefzade', 'age': 22, 'id': 2}, {'first_name': 'Parnian', 'last_name': 'Mollaei', 'age': 13, 'id': 3}]}\n",
      "\n",
      "\n",
      "Contents of Classmates\\12.txt:\n",
      "{'id': 12, 'name': 'Sina', 'age': 21, 'email': 'sina.sherkat@example.com', 'location': 'Kish'}\n",
      "\n",
      "\n",
      "Contents of Classmates\\13.txt:\n",
      "{'name': {'firstName': 'Fazel', 'lastName': 'Basiri'}, 'age': 25, 'cities': ['Bam', 'Shiraz', 'Kish'], 'friends': [{'firstName': 'Saeed', 'lastName': 'Ashrafian', 'age': 25}, {'firstName': 'Mahsa', 'lastName': 'Kzn', 'age':22}, {'firstName': 'Alireza', 'lastName': 'PourMoghadam', 'age':26}], 'id': 13}\n",
      "\n",
      "\n",
      "Contents of Classmates\\14.txt:\n",
      "{'name': {'first name': 'Mahsa', 'last name': 'kzn'}, 'age': 22, 'cities': ['Tehran', 'Shiraz', 'Rasht', 'Mashhad'], 'friends': [{'firstname': 'Fazel', 'Lastname': 'basiri', 'age': 25, 'id': 13}, {'firstname': 'Niayesh', 'lastname': 'Mohammadi', 'age': 22, 'id': 0}], 'id': 14}\n",
      "\n",
      "\n",
      "Contents of Classmates\\16.txt:\n",
      "{'name': {'firstname': 'Hesam', 'lastName': 'Fatemizadeh'}, 'age': 21, 'cities': {'TEHRAN', 'KISH', 'ABADAN'}, 'friends': [{'firstname': 'mariam', 'lastname': 'shojaodin', 'age': 21, 'id': '100'}, {'firstname': 'abbas', 'lastname': 'ranjbar', 'age': 25, 'id': '101'}, {'firstname': 'ali', 'lastname': 'niazi', 'age': 23, 'id': 102}], 'id': 16}\n",
      "\n",
      "\n",
      "Contents of Classmates\\17.txt:\n",
      "{'name': {'first name': 'Mariam', 'last name': 'Shojaedin'}, 'age': 21, 'cities': ['Kaluga', 'Moscow', 'Sochi'], 'friends': [{'firstName': 'Mahsa', 'lastName': 'Rastaghi', 'age': 22, 'ID': '0'}, {'firstName': 'Hesam', 'lastName': 'Fatemizade', 'age': 21, 'ID': '1'}, {'firstName': 'Nika', 'lastName': 'Sadidi', 'age': 22, 'ID': '2'}, {'firstName': 'Ali', 'lastName': 'Niazi', 'age': 23, 'ID': '3'}], 'ID': 17}\n",
      "\n",
      "\n",
      "Contents of Classmates\\18.txt:\n",
      "{'Name': {'First name': 'Mahsa', 'Last name': 'Rastaghi'}, 'Age': 22, 'Cities': ['Kish', 'Shiraz', 'Tehran'], 'Friends': [{'first name': ' Mariam', 'Last name': 'Shojaedin', 'Age': 21, 'Id': 0}, {'first name': ' Nika', 'Last name': 'Sadidi', 'Age': 22, 'Id': 1}, {'first name': ' Hesam', 'Last name': 'Fatemi zadeh', 'Age': 21, 'Id': 2}, {'first name': 'Fatemeh', 'Last name': 'Sayyadi', 'Age': 22, 'Id': '3'}], 'Id': 18}\n",
      "\n",
      "\n",
      "Contents of Classmates\\19.txt:\n",
      "{'name': 'Mobina Mohammadiuon', 'age': 21, 'id': 19, 'cities': ['Tehran', 'Boston', 'Shahrkord'], 'friends': [{'firstName': 'Elaheh', 'lastName': 'HosseinAbadi', 'age': 21, 'id': 0}, {'firstName': 'Nika', 'lastName': 'Sadidi', 'age': 22, 'id': 1}, {'firstName': 'Azin', 'lastName': 'Esfandiari', 'age': 25, 'id': 2}]}\n",
      "\n",
      "\n",
      "Contents of Classmates\\2.txt:\n",
      "{'name': {'firstName': 'parsa', 'lastName': 'khaki'}, 'age': 19, 'cities': ['tehran', 'boston', 'mehran'], 'friends': [{'firstName': 'shayan', 'lastname': 'shahvari', 'age': 35, 'id': 0}, {'firstName': 'kiavash', 'lastName': 'abasnejad', 'age': 21, 'id': 1}, {'firstName': 'behrad', 'lastName': 'biniaz', 'age': 30, 'id': 2}], 'id': 2}\n",
      "\n",
      "\n",
      "Contents of Classmates\\4.txt:\n",
      "{'name': {'firstName': 'Zahra', 'lastName': 'Akhlaghipoor'}, 'age': 22, 'cities': ['Kish'], 'friends': [{'firstName': 'Tima', 'LastName': 'Kalhori', 'age': 19, 'id': 0}, {'firstName': 'Nikki', 'LastName': 'Khayyat', 'age': 21, 'id': 1}], 'id': 4}\n",
      "\n",
      "\n",
      "Contents of Classmates\\5.txt:\n",
      "{'firstName': 'Tima', 'lastName': 'Kalhori', 'age': 19, 'cities': ['Tehran', 'Boston', 'Shahrekord'], 'friends': [{'firstName': 'philip', 'lastName': 'fry', 'age': 35, 'id': 0}, {'firstName': 'zahra', 'lastName': 'akhlaghipoor', 'age': 22, 'id': 12}, {'firstName': 'leili', 'lastname': 'shabani', 'age': 27, 'id': 32}], 'id': 5}\n",
      "\n",
      "\n",
      "Contents of Classmates\\6.txt:\n",
      "{'name': {'firstname': 'Nikki', 'lastname': 'Khayyat'}, 'age': 23, 'cities': ['Tehran', 'Boston', 'Shahrekord'], 'friends': [{'firstname': 'Charles', 'lastname': 'Lec', 'age': 27, 'ID': 0}, {'firstname': 'Franco', 'lastname': 'Colapinto', 'age': 21, 'ID': 0}, {'firstname': 'Lewis', 'lastname': 'Hamilton', 'age': 40, 'ID': 0}], 'Id': 6}\n",
      "\n",
      "\n",
      "Contents of Classmates\\7.txt:\n",
      "{'name': {'firstname': 'Saba', 'surname': 'Sarlak'}, 'age': 20, 'cities': ['kl', 'iis', 'maha'], 'lastCity': ['kl'], 'friends': [{'firstname': 'elnaz', 'lastname': 'ahmad', 'age': 22, 'id': 0}, {'firstname': 'asal', 'lastname': 'sabaghzade', 'age': 26, 'id': 2}, {'firstname': 'setia', 'lastname': 'dehghan', 'id': 'bestfriend', 'age': 25}], 'id': 7}\n",
      "\n",
      "\n",
      "Contents of Classmates\\8.txt:\n",
      "{'name': {'first name': 'Mohammad', 'last name': 'Mohammad Khaninezhad'}, 'age': 20, 'cities': ['Tehran', 'Boston', 'Shahrekord'], 'friends': [{'first name': 'Shahrad', 'last name': 'Shahraki', 'age': 21, 'id': 0}, {'first name': 'Hossein', 'last name': 'Dehghan', 'age': 22, 'id': 1}, {'first name': 'Erfan', 'last name': 'Kasef', 'age': 23, 'id': 2}], 'id': 8}\n",
      "\n",
      "\n",
      "Contents of Classmates\\9.txt:\n",
      "{'name': {'first name': 'shahrad', 'last name': 'shahraki'}, 'age': 22, 'cities': ['birjand', 'khoosf', 'tabas'], 'friends': [{'first name': 'alireza', 'last name': 'balali', 'age': 7, 'id': 2}, {'first name': 'shahrokh', 'last name': 'shahmohammadi', 'age': 40, 'id': 7}, {'first name': 'saba', 'last name': 'samaani', 'age': 34, 'id': 5}], 'id': 9}\n",
      "\n",
      "\n"
     ]
    }
   ],
   "source": [
    "import glob\n",
    "\n",
    "\n",
    "fileList = glob.glob('Classmates/*.txt')\n",
    "\n",
    "\n",
    "for fileName in fileList:\n",
    "    with open(fileName, 'r') as file:\n",
    "        content = file.read()\n",
    "        print(f\"Contents of {fileName}:\")\n",
    "        print(content)\n",
    "        print(\"\\n\")"
   ]
  },
  {
   "cell_type": "markdown",
   "id": "d9bed804-0fef-47d6-b4f5-92fbe0ebeb59",
   "metadata": {},
   "source": [
    "**User Defined Classes**"
   ]
  },
  {
   "cell_type": "code",
   "execution_count": 322,
   "id": "84f3af2a-5cb6-460a-8197-d92f7128d5c2",
   "metadata": {},
   "outputs": [
    {
     "name": "stdout",
     "output_type": "stream",
     "text": [
      "{'name': {'first name': 'Mahsa', 'last name': 'kzn'}, 'age': 22, 'cities': ['Tehran', 'Shiraz', 'Rasht', 'Mashhad'], 'friends': [{'firstname': 'Fazel', 'Lastname': 'basiri', 'age': 25, 'id': 13}, {'firstname': 'Niayesh', 'lastname': 'Mohammadi', 'age': 22, 'id': 0}], 'id': 14}\n"
     ]
    }
   ],
   "source": [
    "f=open(\"classmates/14.txt\")\n",
    "data= f.read()\n",
    "f.close()\n",
    "print(data)"
   ]
  },
  {
   "cell_type": "code",
   "execution_count": 324,
   "id": "ba1b616a-93c6-4dc8-be8b-5f924247fcfc",
   "metadata": {},
   "outputs": [
    {
     "name": "stdout",
     "output_type": "stream",
     "text": [
      "C:\\Users\\ASUS\\Documents\\Advanced Programming\n",
      "['1.txt', '10.txt', '11.txt', '12.txt', '13.txt', '14.txt', '16.txt', '17.txt', '18.txt', '19.txt', '2.txt', '4.txt', '5.txt', '6.txt', '7.txt', '8.txt', '9.txt']\n"
     ]
    }
   ],
   "source": [
    "import os\n",
    "ROOT_DIR= os.path.abspath(os.curdir)\n",
    "print(ROOT_DIR)\n",
    "arr= os.listdir(ROOT_DIR+'/classmates')\n",
    "print(arr)"
   ]
  },
  {
   "cell_type": "code",
   "execution_count": 326,
   "id": "a323fba5-9e15-4519-95b3-6bbfb7b2e46c",
   "metadata": {},
   "outputs": [
    {
     "name": "stdout",
     "output_type": "stream",
     "text": [
      "{'name': {'first name': 'Mahsa', 'last name': 'kzn'}, 'age': 22, 'cities': ['Tehran', 'Shiraz', 'Rasht', 'Mashhad'], 'friends': [{'firstname': 'Fazel', 'Lastname': 'basiri', 'age': 25, 'id': 13}, {'firstname': 'Niayesh', 'lastname': 'Mohammadi', 'age': 22, 'id': 0}], 'id': 14}\n"
     ]
    }
   ],
   "source": [
    "listOffProfiles=[]\n",
    "for i in arr:\n",
    "    f=open(\"classmates/\"+i)\n",
    "    tempProfile= f.read()\n",
    "    listOffProfiles.append(tempProfile)\n",
    "    f.close()\n",
    "print(data)"
   ]
  },
  {
   "cell_type": "code",
   "execution_count": 349,
   "id": "4e1f9d64-5872-415f-bcf4-b3ffb207cf48",
   "metadata": {},
   "outputs": [
    {
     "data": {
      "text/plain": [
       "[\"{'name': {'first_name': 'Shayan', 'last_name': 'Shahvari'}, 'age': 20, 'cities': ['Tehran', 'Moscow', 'Kish'], 'friends': [{'first_name': 'Parsa', 'last_name': 'khaki', 'age': 30, 'id': 0}, {'first_name': 'Kiavash', 'last_name': 'abbasnejad', 'age': 37, 'id': 1}, {'first_name': 'Kourosh', 'last_name': 'ikani', 'age': 20}], 'id': 1}\",\n",
       " \"{'name': {'firstName': 'amir_ali', 'lastName': 'mohammadi'}, 'age': 22, 'id': 10, 'cities': ['Tehran', 'kish', 'kabul'], 'farhadFriends': {'bestFriend': {'firstName': 'ikkin', 'lastName': 'golabi', 'age': 2, 'id': 0}, 'lastButNotLeastFriend': {'firstName': 'hossein', 'lastName': 'hezarpa', 'age': 40, 'id': 1}, 0: {'firstName': 'pedram', 'lastName': 'shahraki', 'age': 13, 'id': 1}, 1: {'firstName': 'Bender2', 'lastName': 'Bending Rodríguez', 'age': 4, 'id': 1}, 2: {'firstName': 'shahrooz', 'lastName': 'shabpareh', 'age': 60, 'id': 1}}, 'friends': [{'firstName': 'kamran', 'lastName': 'Fry', 'age': 80, 'id': 0}, {'firstName': 'aligoodarz', 'lastName': 'baboli', 'age': 4, 'id': 1}, {'firstName': 'parham', 'lastName': 'Wong', 'age': 30, 'id': 2}]}\",\n",
       " \"{'name': {'first_name': 'Parsa', 'last_name': 'Mollaei'}, 'age': 22, 'my_id': 11, 'cities': ['tehran', 'esfehan', 'kerman'], 'friends': [{'first_name': 'ali', 'last_name': 'Barkhodari', 'age': 22, 'id': '2'}, {'first_name': 'AmirHossein', 'last_name': 'yousefzade', 'age': 22, 'id': 2}, {'first_name': 'Parnian', 'last_name': 'Mollaei', 'age': 13, 'id': 3}]}\",\n",
       " \"{'id': 12, 'name': 'Sina', 'age': 21, 'email': 'sina.sherkat@example.com', 'location': 'Kish'}\",\n",
       " \"{'name': {'firstName': 'Fazel', 'lastName': 'Basiri'}, 'age': 25, 'cities': ['Bam', 'Shiraz', 'Kish'], 'friends': [{'firstName': 'Saeed', 'lastName': 'Ashrafian', 'age': 25}, {'firstName': 'Mahsa', 'lastName': 'Kzn', 'age':22}, {'firstName': 'Alireza', 'lastName': 'PourMoghadam', 'age':26}], 'id': 13}\",\n",
       " \"{'name': {'first name': 'Mahsa', 'last name': 'kzn'}, 'age': 22, 'cities': ['Tehran', 'Shiraz', 'Rasht', 'Mashhad'], 'friends': [{'firstname': 'Fazel', 'Lastname': 'basiri', 'age': 25, 'id': 13}, {'firstname': 'Niayesh', 'lastname': 'Mohammadi', 'age': 22, 'id': 0}], 'id': 14}\",\n",
       " \"{'name': {'firstname': 'Hesam', 'lastName': 'Fatemizadeh'}, 'age': 21, 'cities': {'TEHRAN', 'KISH', 'ABADAN'}, 'friends': [{'firstname': 'mariam', 'lastname': 'shojaodin', 'age': 21, 'id': '100'}, {'firstname': 'abbas', 'lastname': 'ranjbar', 'age': 25, 'id': '101'}, {'firstname': 'ali', 'lastname': 'niazi', 'age': 23, 'id': 102}], 'id': 16}\",\n",
       " \"{'name': {'first name': 'Mariam', 'last name': 'Shojaedin'}, 'age': 21, 'cities': ['Kaluga', 'Moscow', 'Sochi'], 'friends': [{'firstName': 'Mahsa', 'lastName': 'Rastaghi', 'age': 22, 'ID': '0'}, {'firstName': 'Hesam', 'lastName': 'Fatemizade', 'age': 21, 'ID': '1'}, {'firstName': 'Nika', 'lastName': 'Sadidi', 'age': 22, 'ID': '2'}, {'firstName': 'Ali', 'lastName': 'Niazi', 'age': 23, 'ID': '3'}], 'ID': 17}\",\n",
       " \"{'Name': {'First name': 'Mahsa', 'Last name': 'Rastaghi'}, 'Age': 22, 'Cities': ['Kish', 'Shiraz', 'Tehran'], 'Friends': [{'first name': ' Mariam', 'Last name': 'Shojaedin', 'Age': 21, 'Id': 0}, {'first name': ' Nika', 'Last name': 'Sadidi', 'Age': 22, 'Id': 1}, {'first name': ' Hesam', 'Last name': 'Fatemi zadeh', 'Age': 21, 'Id': 2}, {'first name': 'Fatemeh', 'Last name': 'Sayyadi', 'Age': 22, 'Id': '3'}], 'Id': 18}\",\n",
       " \"{'name': 'Mobina Mohammadiuon', 'age': 21, 'id': 19, 'cities': ['Tehran', 'Boston', 'Shahrkord'], 'friends': [{'firstName': 'Elaheh', 'lastName': 'HosseinAbadi', 'age': 21, 'id': 0}, {'firstName': 'Nika', 'lastName': 'Sadidi', 'age': 22, 'id': 1}, {'firstName': 'Azin', 'lastName': 'Esfandiari', 'age': 25, 'id': 2}]}\",\n",
       " \"{'name': {'firstName': 'parsa', 'lastName': 'khaki'}, 'age': 19, 'cities': ['tehran', 'boston', 'mehran'], 'friends': [{'firstName': 'shayan', 'lastname': 'shahvari', 'age': 35, 'id': 0}, {'firstName': 'kiavash', 'lastName': 'abasnejad', 'age': 21, 'id': 1}, {'firstName': 'behrad', 'lastName': 'biniaz', 'age': 30, 'id': 2}], 'id': 2}\",\n",
       " \"{'name': {'firstName': 'Zahra', 'lastName': 'Akhlaghipoor'}, 'age': 22, 'cities': ['Kish'], 'friends': [{'firstName': 'Tima', 'LastName': 'Kalhori', 'age': 19, 'id': 0}, {'firstName': 'Nikki', 'LastName': 'Khayyat', 'age': 21, 'id': 1}], 'id': 4}\",\n",
       " \"{'firstName': 'Tima', 'lastName': 'Kalhori', 'age': 19, 'cities': ['Tehran', 'Boston', 'Shahrekord'], 'friends': [{'firstName': 'philip', 'lastName': 'fry', 'age': 35, 'id': 0}, {'firstName': 'zahra', 'lastName': 'akhlaghipoor', 'age': 22, 'id': 12}, {'firstName': 'leili', 'lastname': 'shabani', 'age': 27, 'id': 32}], 'id': 5}\",\n",
       " \"{'name': {'firstname': 'Nikki', 'lastname': 'Khayyat'}, 'age': 23, 'cities': ['Tehran', 'Boston', 'Shahrekord'], 'friends': [{'firstname': 'Charles', 'lastname': 'Lec', 'age': 27, 'ID': 0}, {'firstname': 'Franco', 'lastname': 'Colapinto', 'age': 21, 'ID': 0}, {'firstname': 'Lewis', 'lastname': 'Hamilton', 'age': 40, 'ID': 0}], 'Id': 6}\",\n",
       " \"{'name': {'firstname': 'Saba', 'surname': 'Sarlak'}, 'age': 20, 'cities': ['kl', 'iis', 'maha'], 'lastCity': ['kl'], 'friends': [{'firstname': 'elnaz', 'lastname': 'ahmad', 'age': 22, 'id': 0}, {'firstname': 'asal', 'lastname': 'sabaghzade', 'age': 26, 'id': 2}, {'firstname': 'setia', 'lastname': 'dehghan', 'id': 'bestfriend', 'age': 25}], 'id': 7}\",\n",
       " \"{'name': {'first name': 'Mohammad', 'last name': 'Mohammad Khaninezhad'}, 'age': 20, 'cities': ['Tehran', 'Boston', 'Shahrekord'], 'friends': [{'first name': 'Shahrad', 'last name': 'Shahraki', 'age': 21, 'id': 0}, {'first name': 'Hossein', 'last name': 'Dehghan', 'age': 22, 'id': 1}, {'first name': 'Erfan', 'last name': 'Kasef', 'age': 23, 'id': 2}], 'id': 8}\",\n",
       " \"{'name': {'first name': 'shahrad', 'last name': 'shahraki'}, 'age': 22, 'cities': ['birjand', 'khoosf', 'tabas'], 'friends': [{'first name': 'alireza', 'last name': 'balali', 'age': 7, 'id': 2}, {'first name': 'shahrokh', 'last name': 'shahmohammadi', 'age': 40, 'id': 7}, {'first name': 'saba', 'last name': 'samaani', 'age': 34, 'id': 5}], 'id': 9}\"]"
      ]
     },
     "execution_count": 349,
     "metadata": {},
     "output_type": "execute_result"
    }
   ],
   "source": [
    "classmatesProfile = []\n",
    "\n",
    "for i in arr:\n",
    "    f = open('Classmates/'+ i)\n",
    "    tempProfile = f.read()\n",
    "    classmatesProfile.append(tempProfile)\n",
    "    f.close()\n",
    "classmatesProfile"
   ]
  },
  {
   "cell_type": "markdown",
   "id": "1ce3118b-c5ce-40a2-8cd4-2a54c79cd2af",
   "metadata": {},
   "source": [
    "## According to the teacher's instructions, the requested Notebook was mandatory until this part of the code.\n",
    "## I need more time to work on the codes in sessions 14 and 15 which are not included in this notbook(and wreren't necessary to be includd in this notebook).\n",
    "## The following codes are for sessions 16 and 17."
   ]
  },
  {
   "cell_type": "markdown",
   "id": "77d26a6b-2124-4e4d-96a4-e8b64f73f752",
   "metadata": {},
   "source": [
    "## HW of session 11"
   ]
  },
  {
   "cell_type": "code",
   "execution_count": 332,
   "id": "bffda6da-bc53-4aed-b74b-b02ca03f00e8",
   "metadata": {},
   "outputs": [
    {
     "name": "stdout",
     "output_type": "stream",
     "text": [
      "(2, 1)\n"
     ]
    }
   ],
   "source": [
    "def swap(a,b):\n",
    "    return b ,a\n",
    "\n",
    "print(swap(1,2))"
   ]
  },
  {
   "cell_type": "code",
   "execution_count": 334,
   "id": "f5b987ee-a459-4b0f-bee8-14e8b5f41a16",
   "metadata": {},
   "outputs": [
    {
     "data": {
      "text/plain": [
       "'hop'"
      ]
     },
     "execution_count": 334,
     "metadata": {},
     "output_type": "execute_result"
    }
   ],
   "source": [
    "def hop(a):\n",
    "    if a % 5:\n",
    "        return a\n",
    "    else:\n",
    "        return \"hop\"\n",
    "hop(5)"
   ]
  },
  {
   "cell_type": "code",
   "execution_count": 336,
   "id": "f06f4f59-0cb0-4474-825a-bdb9d2887d8f",
   "metadata": {},
   "outputs": [
    {
     "name": "stdout",
     "output_type": "stream",
     "text": [
      "0th has error\n",
      "1th has error\n",
      "2th has error\n",
      "3th has error\n",
      "4th has error\n",
      "5th has error\n",
      "6th has error\n",
      "7th has error\n",
      "8th has error\n",
      "9th has error\n",
      "10th has error\n",
      "11th has error\n",
      "12th has error\n",
      "13th has error\n",
      "14th has error\n",
      "15th has error\n",
      "16th has error\n",
      "mean\n",
      "0.0\n"
     ]
    }
   ],
   "source": [
    "sum_all = 0\n",
    "for i in range (len(Classmates_Profile)):\n",
    "    try:\n",
    "        sum_all += Classmates_Profile[i]['age']\n",
    "    except:\n",
    "        print(str(i)+\"th has error\")\n",
    "print(\"mean\")\n",
    "print(sum_all/len(Classmates_Profile))\n"
   ]
  },
  {
   "cell_type": "markdown",
   "id": "205cf895-560d-44df-b074-2d31b3409537",
   "metadata": {},
   "source": [
    "## Session 16 and 17\n",
    "## Csv Format"
   ]
  },
  {
   "cell_type": "code",
   "execution_count": 339,
   "id": "26343625-cd86-47ad-b0e8-cf59839ac513",
   "metadata": {},
   "outputs": [
    {
     "data": {
      "text/html": [
       "<div>\n",
       "<style scoped>\n",
       "    .dataframe tbody tr th:only-of-type {\n",
       "        vertical-align: middle;\n",
       "    }\n",
       "\n",
       "    .dataframe tbody tr th {\n",
       "        vertical-align: top;\n",
       "    }\n",
       "\n",
       "    .dataframe thead th {\n",
       "        text-align: right;\n",
       "    }\n",
       "</style>\n",
       "<table border=\"1\" class=\"dataframe\">\n",
       "  <thead>\n",
       "    <tr style=\"text-align: right;\">\n",
       "      <th></th>\n",
       "      <th>tconst</th>\n",
       "      <th>averageRating</th>\n",
       "      <th>numVotes</th>\n",
       "    </tr>\n",
       "  </thead>\n",
       "  <tbody>\n",
       "    <tr>\n",
       "      <th>0</th>\n",
       "      <td>tt0000001</td>\n",
       "      <td>5.7</td>\n",
       "      <td>2104</td>\n",
       "    </tr>\n",
       "    <tr>\n",
       "      <th>1</th>\n",
       "      <td>tt0000002</td>\n",
       "      <td>5.6</td>\n",
       "      <td>282</td>\n",
       "    </tr>\n",
       "    <tr>\n",
       "      <th>2</th>\n",
       "      <td>tt0000003</td>\n",
       "      <td>6.5</td>\n",
       "      <td>2123</td>\n",
       "    </tr>\n",
       "    <tr>\n",
       "      <th>3</th>\n",
       "      <td>tt0000004</td>\n",
       "      <td>5.4</td>\n",
       "      <td>182</td>\n",
       "    </tr>\n",
       "    <tr>\n",
       "      <th>4</th>\n",
       "      <td>tt0000005</td>\n",
       "      <td>6.2</td>\n",
       "      <td>2852</td>\n",
       "    </tr>\n",
       "    <tr>\n",
       "      <th>...</th>\n",
       "      <td>...</td>\n",
       "      <td>...</td>\n",
       "      <td>...</td>\n",
       "    </tr>\n",
       "    <tr>\n",
       "      <th>1503477</th>\n",
       "      <td>tt9916730</td>\n",
       "      <td>7.0</td>\n",
       "      <td>12</td>\n",
       "    </tr>\n",
       "    <tr>\n",
       "      <th>1503478</th>\n",
       "      <td>tt9916766</td>\n",
       "      <td>7.1</td>\n",
       "      <td>24</td>\n",
       "    </tr>\n",
       "    <tr>\n",
       "      <th>1503479</th>\n",
       "      <td>tt9916778</td>\n",
       "      <td>7.2</td>\n",
       "      <td>37</td>\n",
       "    </tr>\n",
       "    <tr>\n",
       "      <th>1503480</th>\n",
       "      <td>tt9916840</td>\n",
       "      <td>6.9</td>\n",
       "      <td>11</td>\n",
       "    </tr>\n",
       "    <tr>\n",
       "      <th>1503481</th>\n",
       "      <td>tt9916880</td>\n",
       "      <td>7.9</td>\n",
       "      <td>9</td>\n",
       "    </tr>\n",
       "  </tbody>\n",
       "</table>\n",
       "<p>1503482 rows × 3 columns</p>\n",
       "</div>"
      ],
      "text/plain": [
       "            tconst  averageRating  numVotes\n",
       "0        tt0000001            5.7      2104\n",
       "1        tt0000002            5.6       282\n",
       "2        tt0000003            6.5      2123\n",
       "3        tt0000004            5.4       182\n",
       "4        tt0000005            6.2      2852\n",
       "...            ...            ...       ...\n",
       "1503477  tt9916730            7.0        12\n",
       "1503478  tt9916766            7.1        24\n",
       "1503479  tt9916778            7.2        37\n",
       "1503480  tt9916840            6.9        11\n",
       "1503481  tt9916880            7.9         9\n",
       "\n",
       "[1503482 rows x 3 columns]"
      ]
     },
     "metadata": {},
     "output_type": "display_data"
    }
   ],
   "source": [
    "import pandas as pd\n",
    "df= pd.read_csv('title.ratings.tsv', sep='\\t')\n",
    "display(df)"
   ]
  },
  {
   "cell_type": "code",
   "execution_count": 340,
   "id": "a292a17b-ae7f-4b26-aaa1-e7ebce3a2816",
   "metadata": {},
   "outputs": [
    {
     "name": "stdout",
     "output_type": "stream",
     "text": [
      "Maximum value in column 'averageRating': \n",
      "10.0\n"
     ]
    }
   ],
   "source": [
    "maxClm = df['averageRating'].max()\n",
    "print(\"Maximum value in column 'averageRating': \")\n",
    "print(maxClm)\n"
   ]
  },
  {
   "cell_type": "code",
   "execution_count": 341,
   "id": "89de666d-b953-4448-a5c0-362ad823aa7a",
   "metadata": {},
   "outputs": [
    {
     "name": "stdout",
     "output_type": "stream",
     "text": [
      "Maximum value in column 'numVotes': \n",
      "2967074\n"
     ]
    }
   ],
   "source": [
    "maxClm = df['numVotes'].max()\n",
    "print(\"Maximum value in column 'numVotes': \")\n",
    "print(maxClm)\n"
   ]
  },
  {
   "cell_type": "code",
   "execution_count": null,
   "id": "9827df01-94ce-466f-ab27-6dc690e9a776",
   "metadata": {},
   "outputs": [],
   "source": []
  }
 ],
 "metadata": {
  "kernelspec": {
   "display_name": "Python 3 (ipykernel)",
   "language": "python",
   "name": "python3"
  },
  "language_info": {
   "codemirror_mode": {
    "name": "ipython",
    "version": 3
   },
   "file_extension": ".py",
   "mimetype": "text/x-python",
   "name": "python",
   "nbconvert_exporter": "python",
   "pygments_lexer": "ipython3",
   "version": "3.12.4"
  }
 },
 "nbformat": 4,
 "nbformat_minor": 5
}
